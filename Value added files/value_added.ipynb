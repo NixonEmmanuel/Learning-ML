{
 "cells": [
  {
   "cell_type": "code",
   "execution_count": 1,
   "id": "52619479",
   "metadata": {},
   "outputs": [
    {
     "name": "stdout",
     "output_type": "stream",
     "text": [
      "welcome\n"
     ]
    }
   ],
   "source": [
    "print(\"welcome\")"
   ]
  },
  {
   "cell_type": "code",
   "execution_count": 2,
   "id": "d2dd38a2",
   "metadata": {},
   "outputs": [
    {
     "name": "stdout",
     "output_type": "stream",
     "text": [
      "pip 23.2.1 from C:\\MLAnaconda\\Lib\\site-packages\\pip (python 3.11)\n",
      "\n",
      "Note: you may need to restart the kernel to use updated packages.\n"
     ]
    }
   ],
   "source": [
    "pip--version"
   ]
  },
  {
   "cell_type": "code",
   "execution_count": 3,
   "id": "37d18b09",
   "metadata": {},
   "outputs": [
    {
     "name": "stdout",
     "output_type": "stream",
     "text": [
      "Collecting camelcase\n",
      "  Downloading camelcase-0.2.tar.gz (1.3 kB)\n",
      "  Preparing metadata (setup.py): started\n",
      "  Preparing metadata (setup.py): finished with status 'done'\n",
      "Building wheels for collected packages: camelcase\n",
      "  Building wheel for camelcase (setup.py): started\n",
      "  Building wheel for camelcase (setup.py): finished with status 'done'\n",
      "  Created wheel for camelcase: filename=camelcase-0.2-py3-none-any.whl size=1779 sha256=e7aefd26f426d7e790f9fdf727b25e83ff52ef57af407085ab9e51e82dcc4db5\n",
      "  Stored in directory: c:\\users\\acer\\appdata\\local\\pip\\cache\\wheels\\9b\\03\\38\\e96c3419390e51c6f282e9793e392eb2996b4059eb6739165b\n",
      "Successfully built camelcase\n",
      "Installing collected packages: camelcase\n",
      "Successfully installed camelcase-0.2\n",
      "Note: you may need to restart the kernel to use updated packages.\n"
     ]
    }
   ],
   "source": [
    "pip install camelcase"
   ]
  },
  {
   "cell_type": "code",
   "execution_count": 4,
   "id": "08799954",
   "metadata": {},
   "outputs": [
    {
     "name": "stdout",
     "output_type": "stream",
     "text": [
      "Hello World\n"
     ]
    }
   ],
   "source": [
    "import camelcase\n",
    "c = camelcase.CamelCase()\n",
    "\n",
    "txt = \"hello world\"\n",
    "\n",
    "print(c.hump(txt))"
   ]
  },
  {
   "cell_type": "code",
   "execution_count": 5,
   "id": "bc70c3f1",
   "metadata": {},
   "outputs": [
    {
     "name": "stdout",
     "output_type": "stream",
     "text": [
      "Package                       VersionNote: you may need to restart the kernel to use updated packages.\n",
      "\n",
      "----------------------------- ---------------\n",
      "aiobotocore                   2.5.0\n",
      "aiofiles                      22.1.0\n",
      "aiohttp                       3.8.5\n",
      "aioitertools                  0.7.1\n",
      "aiosignal                     1.2.0\n",
      "aiosqlite                     0.18.0\n",
      "alabaster                     0.7.12\n",
      "anaconda-anon-usage           0.4.2\n",
      "anaconda-catalogs             0.2.0\n",
      "anaconda-client               1.12.1\n",
      "anaconda-cloud-auth           0.1.3\n",
      "anaconda-navigator            2.5.0\n",
      "anaconda-project              0.11.1\n",
      "anyio                         3.5.0\n",
      "appdirs                       1.4.4\n",
      "argon2-cffi                   21.3.0\n",
      "argon2-cffi-bindings          21.2.0\n",
      "arrow                         1.2.3\n",
      "astroid                       2.14.2\n",
      "astropy                       5.1\n",
      "asttokens                     2.0.5\n",
      "async-timeout                 4.0.2\n",
      "atomicwrites                  1.4.0\n",
      "attrs                         22.1.0\n",
      "Automat                       20.2.0\n",
      "autopep8                      1.6.0\n",
      "Babel                         2.11.0\n",
      "backcall                      0.2.0\n",
      "backports.functools-lru-cache 1.6.4\n",
      "backports.tempfile            1.0\n",
      "backports.weakref             1.0.post1\n",
      "bcrypt                        3.2.0\n",
      "beautifulsoup4                4.12.2\n",
      "binaryornot                   0.4.4\n",
      "black                         0.0\n",
      "bleach                        4.1.0\n",
      "bokeh                         3.2.1\n",
      "boltons                       23.0.0\n",
      "botocore                      1.29.76\n",
      "Bottleneck                    1.3.5\n",
      "brotlipy                      0.7.0\n",
      "camelcase                     0.2\n",
      "certifi                       2023.7.22\n",
      "cffi                          1.15.1\n",
      "chardet                       4.0.0\n",
      "charset-normalizer            2.0.4\n",
      "click                         8.0.4\n",
      "cloudpickle                   2.2.1\n",
      "clyent                        1.2.2\n",
      "colorama                      0.4.6\n",
      "colorcet                      3.0.1\n",
      "comm                          0.1.2\n",
      "conda                         23.7.4\n",
      "conda-build                   3.26.1\n",
      "conda-content-trust           0.2.0\n",
      "conda_index                   0.3.0\n",
      "conda-libmamba-solver         23.7.0\n",
      "conda-pack                    0.6.0\n",
      "conda-package-handling        2.2.0\n",
      "conda_package_streaming       0.9.0\n",
      "conda-repo-cli                1.0.75\n",
      "conda-token                   0.4.0\n",
      "conda-verify                  3.4.2\n",
      "constantly                    15.1.0\n",
      "contourpy                     1.0.5\n",
      "cookiecutter                  1.7.3\n",
      "cryptography                  41.0.3\n",
      "cssselect                     1.1.0\n",
      "cycler                        0.11.0\n",
      "cytoolz                       0.12.0\n",
      "daal4py                       2023.1.1\n",
      "dask                          2023.6.0\n",
      "datasets                      2.12.0\n",
      "datashader                    0.15.2\n",
      "datashape                     0.5.4\n",
      "debugpy                       1.6.7\n",
      "decorator                     5.1.1\n",
      "defusedxml                    0.7.1\n",
      "diff-match-patch              20200713\n",
      "dill                          0.3.6\n",
      "distributed                   2023.6.0\n",
      "docstring-to-markdown         0.11\n",
      "docutils                      0.18.1\n",
      "entrypoints                   0.4\n",
      "et-xmlfile                    1.1.0\n",
      "executing                     0.8.3\n",
      "fastjsonschema                2.16.2\n",
      "filelock                      3.9.0\n",
      "flake8                        6.0.0\n",
      "Flask                         2.2.2\n",
      "fonttools                     4.25.0\n",
      "frozenlist                    1.3.3\n",
      "fsspec                        2023.4.0\n",
      "future                        0.18.3\n",
      "gensim                        4.3.0\n",
      "glob2                         0.7\n",
      "greenlet                      2.0.1\n",
      "h5py                          3.9.0\n",
      "HeapDict                      1.0.1\n",
      "holoviews                     1.17.1\n",
      "huggingface-hub               0.15.1\n",
      "hvplot                        0.8.4\n",
      "hyperlink                     21.0.0\n",
      "idna                          3.4\n",
      "imagecodecs                   2023.1.23\n",
      "imageio                       2.26.0\n",
      "imagesize                     1.4.1\n",
      "imbalanced-learn              0.10.1\n",
      "importlib-metadata            6.0.0\n",
      "incremental                   21.3.0\n",
      "inflection                    0.5.1\n",
      "iniconfig                     1.1.1\n",
      "intake                        0.6.8\n",
      "intervaltree                  3.1.0\n",
      "ipykernel                     6.25.0\n",
      "ipython                       8.15.0\n",
      "ipython-genutils              0.2.0\n",
      "ipywidgets                    8.0.4\n",
      "isort                         5.9.3\n",
      "itemadapter                   0.3.0\n",
      "itemloaders                   1.0.4\n",
      "itsdangerous                  2.0.1\n",
      "jaraco.classes                3.2.1\n",
      "jedi                          0.18.1\n",
      "jellyfish                     1.0.1\n",
      "Jinja2                        3.1.2\n",
      "jinja2-time                   0.2.0\n",
      "jmespath                      0.10.0\n",
      "joblib                        1.2.0\n",
      "json5                         0.9.6\n",
      "jsonpatch                     1.32\n",
      "jsonpointer                   2.1\n",
      "jsonschema                    4.17.3\n",
      "jupyter                       1.0.0\n",
      "jupyter_client                7.4.9\n",
      "jupyter-console               6.6.3\n",
      "jupyter_core                  5.3.0\n",
      "jupyter-events                0.6.3\n",
      "jupyter-server                1.23.4\n",
      "jupyter_server_fileid         0.9.0\n",
      "jupyter_server_ydoc           0.8.0\n",
      "jupyter-ydoc                  0.2.4\n",
      "jupyterlab                    3.6.3\n",
      "jupyterlab-pygments           0.1.2\n",
      "jupyterlab_server             2.22.0\n",
      "jupyterlab-widgets            3.0.5\n",
      "kaleido                       0.2.1\n",
      "keyring                       23.13.1\n",
      "kiwisolver                    1.4.4\n",
      "lazy_loader                   0.2\n",
      "lazy-object-proxy             1.6.0\n",
      "libarchive-c                  2.9\n",
      "libmambapy                    1.5.1\n",
      "linkify-it-py                 2.0.0\n",
      "llvmlite                      0.40.0\n",
      "lmdb                          1.4.1\n",
      "locket                        1.0.0\n",
      "lxml                          4.9.3\n",
      "lz4                           4.3.2\n",
      "Markdown                      3.4.1\n",
      "markdown-it-py                2.2.0\n",
      "MarkupSafe                    2.1.1\n",
      "matplotlib                    3.7.2\n",
      "matplotlib-inline             0.1.6\n",
      "mccabe                        0.7.0\n",
      "mdit-py-plugins               0.3.0\n",
      "mdurl                         0.1.0\n",
      "menuinst                      1.4.19\n",
      "mistune                       0.8.4\n",
      "mkl-fft                       1.3.8\n",
      "mkl-random                    1.2.4\n",
      "mkl-service                   2.4.0\n",
      "more-itertools                8.12.0\n",
      "mpmath                        1.3.0\n",
      "msgpack                       1.0.3\n",
      "multidict                     6.0.2\n",
      "multipledispatch              0.6.0\n",
      "multiprocess                  0.70.14\n",
      "munkres                       1.1.4\n",
      "mypy-extensions               1.0.0\n",
      "navigator-updater             0.4.0\n",
      "nbclassic                     0.5.5\n",
      "nbclient                      0.5.13\n",
      "nbconvert                     6.5.4\n",
      "nbformat                      5.9.2\n",
      "nest-asyncio                  1.5.6\n",
      "networkx                      3.1\n",
      "nltk                          3.8.1\n",
      "notebook                      6.5.4\n",
      "notebook_shim                 0.2.2\n",
      "numba                         0.57.1\n",
      "numexpr                       2.8.4\n",
      "numpy                         1.24.3\n",
      "numpydoc                      1.5.0\n",
      "openpyxl                      3.0.10\n",
      "packaging                     23.1\n",
      "pandas                        2.0.3\n",
      "pandocfilters                 1.5.0\n",
      "panel                         1.2.3\n",
      "param                         1.13.0\n",
      "paramiko                      2.8.1\n",
      "parsel                        1.6.0\n",
      "parso                         0.8.3\n",
      "partd                         1.4.0\n",
      "pathlib                       1.0.1\n",
      "pathspec                      0.10.3\n",
      "patsy                         0.5.3\n",
      "pep8                          1.7.1\n",
      "pexpect                       4.8.0\n",
      "pickleshare                   0.7.5\n",
      "Pillow                        9.4.0\n",
      "pip                           23.2.1\n",
      "pkce                          1.0.3\n",
      "pkginfo                       1.9.6\n",
      "platformdirs                  3.10.0\n",
      "plotly                        5.9.0\n",
      "pluggy                        1.0.0\n",
      "ply                           3.11\n",
      "poyo                          0.5.0\n",
      "prometheus-client             0.14.1\n",
      "prompt-toolkit                3.0.36\n",
      "Protego                       0.1.16\n",
      "psutil                        5.9.0\n",
      "ptyprocess                    0.7.0\n",
      "pure-eval                     0.2.2\n",
      "py-cpuinfo                    8.0.0\n",
      "pyarrow                       11.0.0\n",
      "pyasn1                        0.4.8\n",
      "pyasn1-modules                0.2.8\n",
      "pycodestyle                   2.10.0\n",
      "pycosat                       0.6.4\n",
      "pycparser                     2.21\n",
      "pyct                          0.5.0\n",
      "pycurl                        7.45.2\n",
      "pydantic                      1.10.8\n",
      "PyDispatcher                  2.0.5\n",
      "pydocstyle                    6.3.0\n",
      "pyerfa                        2.0.0\n",
      "pyflakes                      3.0.1\n",
      "Pygments                      2.15.1\n",
      "PyJWT                         2.4.0\n",
      "pylint                        2.16.2\n",
      "pylint-venv                   2.3.0\n",
      "pyls-spyder                   0.4.0\n",
      "PyNaCl                        1.5.0\n",
      "pyodbc                        4.0.34\n",
      "pyOpenSSL                     23.2.0\n",
      "pyparsing                     3.0.9\n",
      "PyQt5                         5.15.7\n",
      "PyQt5-sip                     12.11.0\n",
      "PyQtWebEngine                 5.15.4\n",
      "pyrsistent                    0.18.0\n",
      "PySocks                       1.7.1\n",
      "pytest                        7.4.0\n",
      "python-dateutil               2.8.2\n",
      "python-dotenv                 0.21.0\n",
      "python-json-logger            2.0.7\n",
      "python-lsp-black              1.2.1\n",
      "python-lsp-jsonrpc            1.0.0\n",
      "python-lsp-server             1.7.2\n",
      "python-slugify                5.0.2\n",
      "python-snappy                 0.6.1\n",
      "pytoolconfig                  1.2.5\n",
      "pytz                          2023.3.post1\n",
      "pyviz-comms                   2.3.0\n",
      "PyWavelets                    1.4.1\n",
      "pywin32                       305.1\n",
      "pywin32-ctypes                0.2.0\n",
      "pywinpty                      2.0.10\n",
      "PyYAML                        6.0\n",
      "pyzmq                         23.2.0\n",
      "QDarkStyle                    3.0.2\n",
      "qstylizer                     0.2.2\n",
      "QtAwesome                     1.2.2\n",
      "qtconsole                     5.4.2\n",
      "QtPy                          2.2.0\n",
      "queuelib                      1.5.0\n",
      "regex                         2022.7.9\n",
      "requests                      2.31.0\n",
      "requests-file                 1.5.1\n",
      "requests-toolbelt             1.0.0\n",
      "responses                     0.13.3\n",
      "rfc3339-validator             0.1.4\n",
      "rfc3986-validator             0.1.1\n",
      "rope                          1.7.0\n",
      "Rtree                         1.0.1\n",
      "ruamel.yaml                   0.17.21\n",
      "ruamel-yaml-conda             0.17.21\n",
      "s3fs                          2023.4.0\n",
      "safetensors                   0.3.2\n",
      "scikit-image                  0.20.0\n",
      "scikit-learn                  1.3.0\n",
      "scikit-learn-intelex          20230426.121932\n",
      "scipy                         1.11.1\n",
      "Scrapy                        2.8.0\n",
      "seaborn                       0.12.2\n",
      "Send2Trash                    1.8.0\n",
      "service-identity              18.1.0\n",
      "setuptools                    68.0.0\n",
      "sip                           6.6.2\n",
      "six                           1.16.0\n",
      "smart-open                    5.2.1\n",
      "sniffio                       1.2.0\n",
      "snowballstemmer               2.2.0\n",
      "sortedcontainers              2.4.0\n",
      "soupsieve                     2.4\n",
      "Sphinx                        5.0.2\n",
      "sphinxcontrib-applehelp       1.0.2\n",
      "sphinxcontrib-devhelp         1.0.2\n",
      "sphinxcontrib-htmlhelp        2.0.0\n",
      "sphinxcontrib-jsmath          1.0.1\n",
      "sphinxcontrib-qthelp          1.0.3\n",
      "sphinxcontrib-serializinghtml 1.1.5\n",
      "spyder                        5.4.3\n",
      "spyder-kernels                2.4.4\n",
      "SQLAlchemy                    1.4.39\n",
      "stack-data                    0.2.0\n",
      "statsmodels                   0.14.0\n",
      "sympy                         1.11.1\n",
      "tables                        3.8.0\n",
      "tabulate                      0.8.10\n",
      "TBB                           0.2\n",
      "tblib                         1.7.0\n",
      "tenacity                      8.2.2\n",
      "terminado                     0.17.1\n",
      "text-unidecode                1.3\n",
      "textdistance                  4.2.1\n",
      "threadpoolctl                 2.2.0\n",
      "three-merge                   0.1.1\n",
      "tifffile                      2023.4.12\n",
      "tinycss2                      1.2.1\n",
      "tldextract                    3.2.0\n",
      "tokenizers                    0.13.2\n",
      "toml                          0.10.2\n",
      "tomlkit                       0.11.1\n",
      "toolz                         0.12.0\n",
      "tornado                       6.3.2\n",
      "tqdm                          4.65.0\n",
      "traitlets                     5.7.1\n",
      "transformers                  4.32.1\n",
      "Twisted                       22.10.0\n",
      "twisted-iocpsupport           1.0.2\n",
      "typing_extensions             4.7.1\n",
      "tzdata                        2023.3\n",
      "uc-micro-py                   1.0.1\n",
      "ujson                         5.4.0\n",
      "Unidecode                     1.2.0\n",
      "urllib3                       1.26.16\n",
      "w3lib                         1.21.0\n",
      "watchdog                      2.1.6\n",
      "wcwidth                       0.2.5\n",
      "webencodings                  0.5.1\n",
      "websocket-client              0.58.0\n",
      "Werkzeug                      2.2.3\n",
      "whatthepatch                  1.0.2\n",
      "wheel                         0.38.4\n",
      "widgetsnbextension            4.0.5\n",
      "win-inet-pton                 1.1.0\n",
      "wrapt                         1.14.1\n",
      "xarray                        2023.6.0\n",
      "xlwings                       0.29.1\n",
      "xxhash                        2.0.2\n",
      "xyzservices                   2022.9.0\n",
      "y-py                          0.5.9\n",
      "yapf                          0.31.0\n",
      "yarl                          1.8.1\n",
      "ypy-websocket                 0.8.2\n",
      "zict                          2.2.0\n",
      "zipp                          3.11.0\n",
      "zope.interface                5.4.0\n",
      "zstandard                     0.19.0\n"
     ]
    }
   ],
   "source": [
    "pip list"
   ]
  },
  {
   "cell_type": "code",
   "execution_count": 6,
   "id": "a54ed118",
   "metadata": {},
   "outputs": [
    {
     "name": "stdout",
     "output_type": "stream",
     "text": [
      "Requirement already satisfied: numpy in c:\\mlanaconda\\lib\\site-packages (1.24.3)\n",
      "Note: you may need to restart the kernel to use updated packages.\n"
     ]
    }
   ],
   "source": [
    "pip install numpy\n"
   ]
  },
  {
   "cell_type": "code",
   "execution_count": 7,
   "id": "af5e0f88",
   "metadata": {},
   "outputs": [
    {
     "name": "stdout",
     "output_type": "stream",
     "text": [
      "[ 2  8 10  5  9]\n"
     ]
    }
   ],
   "source": [
    "import numpy\n",
    "arr=numpy.array([2,8,10,5,9])\n",
    "print(arr)\n"
   ]
  },
  {
   "cell_type": "code",
   "execution_count": 9,
   "id": "b0522f4d",
   "metadata": {},
   "outputs": [
    {
     "data": {
      "text/plain": [
       "array([ 2,  8, 10,  5,  9])"
      ]
     },
     "execution_count": 9,
     "metadata": {},
     "output_type": "execute_result"
    }
   ],
   "source": [
    "import numpy as np\n",
    "arr=np.array([2,8,10,5,9])\n",
    "arr"
   ]
  },
  {
   "cell_type": "code",
   "execution_count": 10,
   "id": "1e74bb71",
   "metadata": {},
   "outputs": [
    {
     "data": {
      "text/plain": [
       "'1.24.3'"
      ]
     },
     "execution_count": 10,
     "metadata": {},
     "output_type": "execute_result"
    }
   ],
   "source": [
    "import numpy as np\n",
    "np.__version__"
   ]
  },
  {
   "cell_type": "code",
   "execution_count": 11,
   "id": "d8d773e1",
   "metadata": {},
   "outputs": [
    {
     "name": "stdout",
     "output_type": "stream",
     "text": [
      "<class 'numpy.ndarray'>\n"
     ]
    }
   ],
   "source": [
    "print(type(arr))"
   ]
  },
  {
   "cell_type": "code",
   "execution_count": 12,
   "id": "74578cf5",
   "metadata": {},
   "outputs": [
    {
     "data": {
      "text/plain": [
       "'1.24.3'"
      ]
     },
     "execution_count": 12,
     "metadata": {},
     "output_type": "execute_result"
    }
   ],
   "source": [
    "np.__version__"
   ]
  },
  {
   "cell_type": "code",
   "execution_count": 14,
   "id": "48cde132",
   "metadata": {},
   "outputs": [
    {
     "data": {
      "text/plain": [
       "array(25)"
      ]
     },
     "execution_count": 14,
     "metadata": {},
     "output_type": "execute_result"
    }
   ],
   "source": [
    "arr=np.array(25)\n",
    "arr"
   ]
  },
  {
   "cell_type": "code",
   "execution_count": 15,
   "id": "c3ca76a1",
   "metadata": {},
   "outputs": [
    {
     "data": {
      "text/plain": [
       "array([[1, 2, 3],\n",
       "       [4, 5, 6],\n",
       "       [7, 8, 9]])"
      ]
     },
     "execution_count": 15,
     "metadata": {},
     "output_type": "execute_result"
    }
   ],
   "source": [
    "arr=np.array([[1,2,3],[4,5,6],[7,8,9]])\n",
    "arr"
   ]
  },
  {
   "cell_type": "code",
   "execution_count": 16,
   "id": "87b66d2f",
   "metadata": {},
   "outputs": [
    {
     "data": {
      "text/plain": [
       "array([[[ 1,  2,  3],\n",
       "        [ 4,  5,  6],\n",
       "        [ 7,  8,  9]],\n",
       "\n",
       "       [[10, 11, 12],\n",
       "        [13, 14, 15],\n",
       "        [16, 17, 18]]])"
      ]
     },
     "execution_count": 16,
     "metadata": {},
     "output_type": "execute_result"
    }
   ],
   "source": [
    "arr=np.array([[[1,2,3],[4,5,6],[7,8,9]],[[10,11,12],[13,14,15],[16,17,18]]])\n",
    "arr"
   ]
  },
  {
   "cell_type": "code",
   "execution_count": 17,
   "id": "a4f41eaf",
   "metadata": {},
   "outputs": [
    {
     "name": "stdout",
     "output_type": "stream",
     "text": [
      "0\n",
      "1\n",
      "2\n",
      "3\n"
     ]
    }
   ],
   "source": [
    "import numpy as np\n",
    "arr=np.array(5)\n",
    "arr1=np.array([2,8,10,5,9])\n",
    "arr2=np.array([[1,2,3],[4,5,6],[7,8,9]])\n",
    "arr3=np.array([[[1,2,3],[4,5,6],[7,8,9]],[[10,11,12],[13,14,15],[16,17,18]]])\n",
    "print(arr.ndim)\n",
    "print(arr1.ndim)\n",
    "print(arr2.ndim)\n",
    "print(arr3.ndim)"
   ]
  },
  {
   "cell_type": "code",
   "execution_count": 18,
   "id": "2630b267",
   "metadata": {},
   "outputs": [
    {
     "data": {
      "text/plain": [
       "array([[[[[6, 7, 8]]]]])"
      ]
     },
     "execution_count": 18,
     "metadata": {},
     "output_type": "execute_result"
    }
   ],
   "source": [
    "arr=np.array([6,7,8],ndmin=5)\n",
    "arr"
   ]
  },
  {
   "cell_type": "code",
   "execution_count": 21,
   "id": "fd9f5711",
   "metadata": {},
   "outputs": [
    {
     "data": {
      "text/plain": [
       "array([[[ 1,  2,  3],\n",
       "        [ 4,  5,  6],\n",
       "        [ 7,  8,  9]],\n",
       "\n",
       "       [[10, 11, 12],\n",
       "        [13, 14, 15],\n",
       "        [16, 17, 18]],\n",
       "\n",
       "       [[ 0,  0,  0],\n",
       "        [ 0,  0,  0],\n",
       "        [ 0,  0,  0]]])"
      ]
     },
     "execution_count": 21,
     "metadata": {},
     "output_type": "execute_result"
    }
   ],
   "source": [
    "arr=np.array([[[1,2,3],[4,5,6],[7,8,9]],[[10,11,12],[13,14,15],[16,17,18]],[[0,0,0],[0,0,0],[0,0,0]]])\n",
    "arr"
   ]
  },
  {
   "cell_type": "code",
   "execution_count": 22,
   "id": "b2e24fe2",
   "metadata": {},
   "outputs": [
    {
     "data": {
      "text/plain": [
       "3"
      ]
     },
     "execution_count": 22,
     "metadata": {},
     "output_type": "execute_result"
    }
   ],
   "source": [
    "arr=np.array([[[1,2,3],[4,5,6],[7,8,9]],[[10,11,12],[13,14,15],[16,17,18]],[[0,0,0],[0,0,0],[0,0,0]]])\n",
    "arr.ndim"
   ]
  },
  {
   "cell_type": "code",
   "execution_count": 1,
   "id": "e4afb84b",
   "metadata": {},
   "outputs": [
    {
     "ename": "NameError",
     "evalue": "name 'np' is not defined",
     "output_type": "error",
     "traceback": [
      "\u001b[1;31m---------------------------------------------------------------------------\u001b[0m",
      "\u001b[1;31mNameError\u001b[0m                                 Traceback (most recent call last)",
      "Cell \u001b[1;32mIn[1], line 1\u001b[0m\n\u001b[1;32m----> 1\u001b[0m arr\u001b[38;5;241m=\u001b[39mnp\u001b[38;5;241m.\u001b[39marray([\u001b[38;5;241m2\u001b[39m,\u001b[38;5;241m8\u001b[39m,\u001b[38;5;241m10\u001b[39m,\u001b[38;5;241m5\u001b[39m,\u001b[38;5;241m9\u001b[39m])\n\u001b[0;32m      2\u001b[0m \u001b[38;5;28mprint\u001b[39m(arr)\n\u001b[0;32m      3\u001b[0m \u001b[38;5;28mprint\u001b[39m(arr[\u001b[38;5;241m0\u001b[39m])\n",
      "\u001b[1;31mNameError\u001b[0m: name 'np' is not defined"
     ]
    }
   ],
   "source": [
    "arr=np.array([2,8,10,5,9])\n",
    "print(arr)\n",
    "print(arr[0])\n",
    "print(arr[1])\n",
    "print(arr[2])\n",
    "print(arr[3])\n",
    "print(arr[4])"
   ]
  },
  {
   "cell_type": "code",
   "execution_count": 4,
   "id": "5d02646d",
   "metadata": {},
   "outputs": [
    {
     "name": "stdout",
     "output_type": "stream",
     "text": [
      "First 1D array: [1 2 3]\n",
      "Second 1D array: [4 5 6]\n",
      "Third 1D array: [7 8 9]\n"
     ]
    }
   ],
   "source": [
    "import numpy as np\n",
    "a=np.array([[1,2,3],[4,5,6],[7,8,9]])\n",
    "print(\"First 1D array:\",a[0])\n",
    "print(\"Second 1D array:\",a[1])\n",
    "print(\"Third 1D array:\",a[2])"
   ]
  },
  {
   "cell_type": "code",
   "execution_count": 5,
   "id": "45ce98b8",
   "metadata": {},
   "outputs": [
    {
     "name": "stdout",
     "output_type": "stream",
     "text": [
      "Accessing row 0 elements:\n",
      "1\n",
      "2\n",
      "3\n",
      "Accessing row 1 elements:\n",
      "4\n",
      "5\n",
      "6\n",
      "Accessing row 2 elements:\n",
      "7\n",
      "8\n",
      "9\n"
     ]
    }
   ],
   "source": [
    "print(\"Accessing row 0 elements:\")\n",
    "print(a[0,0])\n",
    "print(a[0,1])\n",
    "print(a[0,2])\n",
    "print(\"Accessing row 1 elements:\")\n",
    "print(a[1,0])\n",
    "print(a[1,1])\n",
    "print(a[1,2])\n",
    "print(\"Accessing row 2 elements:\")\n",
    "print(a[2,0])\n",
    "print(a[2,1])\n",
    "print(a[2,2])"
   ]
  },
  {
   "cell_type": "code",
   "execution_count": 6,
   "id": "8300a88a",
   "metadata": {},
   "outputs": [
    {
     "name": "stdout",
     "output_type": "stream",
     "text": [
      "Accessing column 0 elements:\n",
      "1\n",
      "4\n",
      "7\n",
      "Accessing column 1 elements:\n",
      "2\n",
      "5\n",
      "8\n",
      "Accessing column 2 elements:\n",
      "3\n",
      "6\n",
      "9\n"
     ]
    }
   ],
   "source": [
    "print(\"Accessing column 0 elements:\")\n",
    "print(a[0,0])\n",
    "print(a[1,0])\n",
    "print(a[2,0])\n",
    "print(\"Accessing column 1 elements:\")\n",
    "print(a[0,1])\n",
    "print(a[1,1])\n",
    "print(a[2,1])\n",
    "print(\"Accessing column 2 elements:\")\n",
    "print(a[0,2])\n",
    "print(a[1,2])\n",
    "print(a[2,2])"
   ]
  },
  {
   "cell_type": "code",
   "execution_count": 7,
   "id": "072a3abd",
   "metadata": {},
   "outputs": [
    {
     "name": "stdout",
     "output_type": "stream",
     "text": [
      "The given matrix is:\n",
      "1 2 3 \n",
      "4 5 6 \n",
      "7 8 9 \n"
     ]
    }
   ],
   "source": [
    "print(\"The given matrix is:\")\n",
    "for i in range(len(a)):\n",
    "    for j in range(len(a[i])):\n",
    "        print(a[i,j],end=' ')\n",
    "    print()"
   ]
  },
  {
   "cell_type": "code",
   "execution_count": 8,
   "id": "238dabb7",
   "metadata": {},
   "outputs": [
    {
     "name": "stdout",
     "output_type": "stream",
     "text": [
      "[1 2 3]\n",
      "[4 5 6]\n",
      "[7 8 9]\n"
     ]
    }
   ],
   "source": [
    "for i in a:\n",
    "    print(i)"
   ]
  },
  {
   "cell_type": "code",
   "execution_count": 9,
   "id": "f104a234",
   "metadata": {},
   "outputs": [
    {
     "name": "stdout",
     "output_type": "stream",
     "text": [
      "[1 2 3]\n",
      "[4 5 6]\n",
      "[7 8 9]\n",
      "1 2 3 \n",
      "4 5 6 \n",
      "7 8 9 \n",
      "10 11 12 \n",
      "13 14 15 \n",
      "16 17 18 \n"
     ]
    }
   ],
   "source": [
    "for i in a:\n",
    "    print(i)\n",
    "a=np.array([[[1,2,3],[4,5,6],[7,8,9]],[[10,11,12],[13,14,15],[16,17,18]]])\n",
    "for i in a:\n",
    "    for j in i:\n",
    "        for k in j:\n",
    "            print(k,end=' ')\n",
    "        print()"
   ]
  },
  {
   "cell_type": "code",
   "execution_count": 10,
   "id": "b006f000",
   "metadata": {},
   "outputs": [
    {
     "name": "stdout",
     "output_type": "stream",
     "text": [
      "1 2 3 \n",
      "4 5 6 \n",
      "7 8 9 \n",
      "10 11 12 \n",
      "13 14 15 \n",
      "16 17 18 \n"
     ]
    }
   ],
   "source": [
    "a=np.array([[[1,2,3],[4,5,6],[7,8,9]],[[10,11,12],[13,14,15],[16,17,18]]])\n",
    "for i in a:\n",
    "    for j in i:\n",
    "        for k in j:\n",
    "            print(k,end=' ')\n",
    "        print()"
   ]
  },
  {
   "cell_type": "code",
   "execution_count": 11,
   "id": "db38aaae",
   "metadata": {},
   "outputs": [],
   "source": [
    "# Array slicing\n",
    "\n",
    "# Slicing in python means taking elements from one given index to another given index.\n",
    "\n",
    "# We pass slice instead of index like this: [start:end].\n",
    "\n",
    "# We can also define the step, like this: [start:end:step].\n",
    "\n",
    "# If we don't pass start its considered 0"
   ]
  },
  {
   "cell_type": "code",
   "execution_count": 12,
   "id": "de2758a6",
   "metadata": {},
   "outputs": [
    {
     "name": "stdout",
     "output_type": "stream",
     "text": [
      "[1 2 3 4 5]\n"
     ]
    }
   ],
   "source": [
    "a=np.array([1,2,3,4,5,6,7,8,9,10])\n",
    "print(a[0:5])"
   ]
  },
  {
   "cell_type": "code",
   "execution_count": 13,
   "id": "0121a529",
   "metadata": {},
   "outputs": [
    {
     "name": "stdout",
     "output_type": "stream",
     "text": [
      "[ 1  2  3  4  5  6  7  8  9 10]\n"
     ]
    }
   ],
   "source": [
    "print(a[0:])"
   ]
  },
  {
   "cell_type": "code",
   "execution_count": 14,
   "id": "24cb2352",
   "metadata": {},
   "outputs": [
    {
     "name": "stdout",
     "output_type": "stream",
     "text": [
      "[ 1  2  3  4  5  6  7  8  9 10]\n",
      "[ 1  2  3  4  5  6  7  8  9 10]\n",
      "[1 2 3 4 5]\n",
      "[1 3 5 7 9]\n"
     ]
    }
   ],
   "source": [
    "print(a[0:])\n",
    "print(a[:])\n",
    "print(a[-10:-5])\n",
    "print(a[0::2])"
   ]
  },
  {
   "cell_type": "code",
   "execution_count": 15,
   "id": "192234ed",
   "metadata": {},
   "outputs": [
    {
     "name": "stdout",
     "output_type": "stream",
     "text": [
      "[[ 1  2  3  4  5]\n",
      " [ 6  7  8  9 10]]\n",
      "[7 8 9]\n"
     ]
    }
   ],
   "source": [
    "#Slicing 2D Arrays\n",
    "import numpy as np\n",
    "a=np.array([[1,2,3,4,5],[6,7,8,9,10]])\n",
    "print(a)\n",
    "print(a[1,1:4])"
   ]
  },
  {
   "cell_type": "code",
   "execution_count": 17,
   "id": "6d3721e1",
   "metadata": {},
   "outputs": [],
   "source": [
    "# Data Types in NumPy\n",
    "\n",
    "# NumPy has some extra data types, and refer to data types with one character,\n",
    "# like i for integers, u for unsigned integers etc.\n",
    "\n",
    "# Below is a list of all data types in NumPy and the characters used to represent them.\n",
    "\n",
    "# i - integer b - boolean u - unsigned integer f - float c - complex float \n",
    "# m - timedelta M - datetime O - object S - string U - unicode string V - fixed chunk of memory for other type ( void )"
   ]
  },
  {
   "cell_type": "code",
   "execution_count": 18,
   "id": "51b07028",
   "metadata": {},
   "outputs": [
    {
     "name": "stdout",
     "output_type": "stream",
     "text": [
      "int32\n",
      "float64\n",
      "<U6\n"
     ]
    }
   ],
   "source": [
    "#Checking datatype of an array-dtype property\n",
    "import numpy as np\n",
    "a=np.array([1,2,3])\n",
    "b=np.array([2.2,4.5,8.9])\n",
    "c=np.array(['Tushar','Saran','c'])\n",
    "print(a.dtype)\n",
    "print(b.dtype)\n",
    "print(c.dtype)"
   ]
  },
  {
   "cell_type": "code",
   "execution_count": 19,
   "id": "b3c375cc",
   "metadata": {},
   "outputs": [
    {
     "name": "stdout",
     "output_type": "stream",
     "text": [
      "[b'1' b'2' b'3']\n",
      "|S1\n"
     ]
    }
   ],
   "source": [
    "#Creating arrays with defined datatype\n",
    "import numpy as np\n",
    "a=np.array([1,2,3],dtype='S')\n",
    "print(a)\n",
    "print(a.dtype)"
   ]
  },
  {
   "cell_type": "code",
   "execution_count": 23,
   "id": "9e8de828",
   "metadata": {},
   "outputs": [
    {
     "ename": "ValueError",
     "evalue": "invalid literal for int() with base 10: 'c'",
     "output_type": "error",
     "traceback": [
      "\u001b[1;31m---------------------------------------------------------------------------\u001b[0m",
      "\u001b[1;31mValueError\u001b[0m                                Traceback (most recent call last)",
      "Cell \u001b[1;32mIn[23], line 1\u001b[0m\n\u001b[1;32m----> 1\u001b[0m a\u001b[38;5;241m=\u001b[39mnp\u001b[38;5;241m.\u001b[39marray([\u001b[38;5;241m1\u001b[39m,\u001b[38;5;124m'\u001b[39m\u001b[38;5;124mc\u001b[39m\u001b[38;5;124m'\u001b[39m,\u001b[38;5;241m3\u001b[39m],dtype\u001b[38;5;241m=\u001b[39m\u001b[38;5;124m'\u001b[39m\u001b[38;5;124mi\u001b[39m\u001b[38;5;124m'\u001b[39m)\n",
      "\u001b[1;31mValueError\u001b[0m: invalid literal for int() with base 10: 'c'"
     ]
    }
   ],
   "source": [
    "a=np.array([1,'c',3],dtype='i')"
   ]
  },
  {
   "cell_type": "code",
   "execution_count": 24,
   "id": "f4701b6f",
   "metadata": {},
   "outputs": [
    {
     "name": "stdout",
     "output_type": "stream",
     "text": [
      "[1.1 2.2 3.3]\n",
      "float64\n",
      "[1 2 3]\n",
      "int32\n"
     ]
    }
   ],
   "source": [
    "#Converting datatypes-astype() method\n",
    "import numpy as np\n",
    "a=np.array([1.1,2.2,3.3])\n",
    "b=a.astype('i')\n",
    "print(a)\n",
    "print(a.dtype)\n",
    "print(b)\n",
    "print(b.dtype)"
   ]
  },
  {
   "cell_type": "code",
   "execution_count": 25,
   "id": "5392e25c",
   "metadata": {},
   "outputs": [
    {
     "name": "stdout",
     "output_type": "stream",
     "text": [
      "[ 1 -2  0]\n",
      "int32\n",
      "[ True  True False]\n",
      "bool\n"
     ]
    }
   ],
   "source": [
    "a=np.array([1,-2,0])\n",
    "b=a.astype(bool)\n",
    "print(a)\n",
    "print(a.dtype)\n",
    "print(b)\n",
    "print(b.dtype)"
   ]
  },
  {
   "cell_type": "code",
   "execution_count": 26,
   "id": "2070ca34",
   "metadata": {},
   "outputs": [],
   "source": [
    "# Array copy and view\n",
    "\n",
    "# Copy: * Creates a new array * Any changes made to copy will not reflect on original and vice versa View: \n",
    "# * Just a view of the original array * Changes made in view will reflect on original"
   ]
  },
  {
   "cell_type": "code",
   "execution_count": 27,
   "id": "7f04308e",
   "metadata": {},
   "outputs": [
    {
     "name": "stdout",
     "output_type": "stream",
     "text": [
      "Array a: [ 1 -2  0]\n",
      "Array b: [ 1 -2  0]\n"
     ]
    }
   ],
   "source": [
    "a=np.array([1,-2,0])\n",
    "b=a.copy()\n",
    "print(\"Array a:\",a)\n",
    "print(\"Array b:\",b)\n",
    "a[0]=6"
   ]
  },
  {
   "cell_type": "code",
   "execution_count": 28,
   "id": "e6433378",
   "metadata": {},
   "outputs": [
    {
     "name": "stdout",
     "output_type": "stream",
     "text": [
      "Array a: [ 6 -2  0]\n",
      "Array b: [ 1 -2  0]\n"
     ]
    }
   ],
   "source": [
    "print(\"Array a:\",a)\n",
    "print(\"Array b:\",b)"
   ]
  },
  {
   "cell_type": "code",
   "execution_count": 29,
   "id": "106fb978",
   "metadata": {},
   "outputs": [
    {
     "name": "stdout",
     "output_type": "stream",
     "text": [
      "Array a: [ 6 -2  0]\n",
      "Array b: [ 9 -2  0]\n"
     ]
    }
   ],
   "source": [
    "b[0]=9\n",
    "print(\"Array a:\",a)\n",
    "print(\"Array b:\",b)"
   ]
  },
  {
   "cell_type": "code",
   "execution_count": 30,
   "id": "e80e3e53",
   "metadata": {},
   "outputs": [
    {
     "name": "stdout",
     "output_type": "stream",
     "text": [
      "Array a: [ 1 -2  0]\n",
      "Array b: [ 1 -2  0]\n"
     ]
    }
   ],
   "source": [
    "a=np.array([1,-2,0])\n",
    "b=a.view()\n",
    "print(\"Array a:\",a)\n",
    "print(\"Array b:\",b)"
   ]
  },
  {
   "cell_type": "code",
   "execution_count": 31,
   "id": "e3878944",
   "metadata": {},
   "outputs": [
    {
     "name": "stdout",
     "output_type": "stream",
     "text": [
      "Array a: [ 6 -2  0]\n",
      "Array b: [ 6 -2  0]\n"
     ]
    }
   ],
   "source": [
    "a[0]=6\n",
    "print(\"Array a:\",a)\n",
    "print(\"Array b:\",b)"
   ]
  },
  {
   "cell_type": "code",
   "execution_count": 32,
   "id": "21d7002a",
   "metadata": {},
   "outputs": [
    {
     "name": "stdout",
     "output_type": "stream",
     "text": [
      "Array a: [ 9 -2  0]\n",
      "Array b: [ 9 -2  0]\n"
     ]
    }
   ],
   "source": [
    "b[0]=9\n",
    "print(\"Array a:\",a)\n",
    "print(\"Array b:\",b)"
   ]
  },
  {
   "cell_type": "code",
   "execution_count": 33,
   "id": "ca6393cc",
   "metadata": {},
   "outputs": [
    {
     "name": "stdout",
     "output_type": "stream",
     "text": [
      "Array a: [ 1 -2  0]\n",
      "Array b: [ 1 -2  0]\n",
      "Array a: [ 6 -2  0]\n",
      "Array b: [ 6 -2  0]\n",
      "Array a: [ 9 -2  0]\n",
      "Array b: [ 9 -2  0]\n"
     ]
    }
   ],
   "source": [
    "a=np.array([1,-2,0])\n",
    "b=a.view()\n",
    "print(\"Array a:\",a)\n",
    "print(\"Array b:\",b)\n",
    "a[0]=6\n",
    "print(\"Array a:\",a)\n",
    "print(\"Array b:\",b)\n",
    "b[0]=9\n",
    "print(\"Array a:\",a)\n",
    "print(\"Array b:\",b)"
   ]
  },
  {
   "cell_type": "code",
   "execution_count": 34,
   "id": "0e61bdd3",
   "metadata": {},
   "outputs": [
    {
     "name": "stdout",
     "output_type": "stream",
     "text": [
      "None\n",
      "[ 1 -2  0]\n",
      "None\n"
     ]
    }
   ],
   "source": [
    "#Check if array owns its data-base attribute\n",
    "\n",
    "a=np.array([1,-2,0])\n",
    "b=a.copy()\n",
    "c=a.view()\n",
    "print(b.base)\n",
    "print(c.base)\n",
    "print(a.base)"
   ]
  },
  {
   "cell_type": "code",
   "execution_count": 35,
   "id": "689b7438",
   "metadata": {},
   "outputs": [
    {
     "name": "stdout",
     "output_type": "stream",
     "text": [
      "(3,)\n"
     ]
    }
   ],
   "source": [
    "#Array shape\n",
    "\n",
    "import numpy as np\n",
    "a=np.array([1,-2,0])\n",
    "print(a.shape)"
   ]
  },
  {
   "cell_type": "code",
   "execution_count": 36,
   "id": "e4ddf0f1",
   "metadata": {},
   "outputs": [
    {
     "name": "stdout",
     "output_type": "stream",
     "text": [
      "(2, 3)\n"
     ]
    }
   ],
   "source": [
    "a=np.array([[1,-2,0],[4,5,6]])\n",
    "print(a.shape)"
   ]
  },
  {
   "cell_type": "code",
   "execution_count": 38,
   "id": "e3ed6f69",
   "metadata": {
    "scrolled": true
   },
   "outputs": [
    {
     "name": "stdout",
     "output_type": "stream",
     "text": [
      "[1 2 3 4 5 6 7 8 9]\n",
      "[[1 2 3]\n",
      " [4 5 6]\n",
      " [7 8 9]]\n"
     ]
    }
   ],
   "source": [
    "#Reshaping arrays-changing dimension of the array\n",
    "\n",
    "a=np.array([1,2,3,4,5,6,7,8,9])\n",
    "b=a.reshape(3,3)\n",
    "\n",
    "print(a)\n",
    "print(b)"
   ]
  },
  {
   "cell_type": "code",
   "execution_count": 42,
   "id": "1a18ae79",
   "metadata": {},
   "outputs": [
    {
     "name": "stdout",
     "output_type": "stream",
     "text": [
      "[1 2 3 4 5 6 7 8 9]\n",
      "[[[1]\n",
      "  [2]\n",
      "  [3]]\n",
      "\n",
      " [[4]\n",
      "  [5]\n",
      "  [6]]\n",
      "\n",
      " [[7]\n",
      "  [8]\n",
      "  [9]]]\n"
     ]
    }
   ],
   "source": [
    "#Unknown dimension\n",
    "\n",
    "a=np.array([1,2,3,4,5,6,7,8,9])\n",
    "b=a.reshape(3,3,-1)\n",
    "print(a)\n",
    "print(b)"
   ]
  },
  {
   "cell_type": "code",
   "execution_count": 43,
   "id": "2271dacb",
   "metadata": {},
   "outputs": [
    {
     "name": "stdout",
     "output_type": "stream",
     "text": [
      "1\n",
      "2\n",
      "3\n",
      "4\n",
      "5\n",
      "6\n",
      "7\n",
      "8\n",
      "9\n"
     ]
    }
   ],
   "source": [
    "#Iteration using nditer()\n",
    "\n",
    "a=np.array([[1,2,3],[4,5,6],[7,8,9]])\n",
    "for x in np.nditer(a):\n",
    "    print(x)"
   ]
  },
  {
   "cell_type": "code",
   "execution_count": 44,
   "id": "ed9d9f3f",
   "metadata": {},
   "outputs": [
    {
     "name": "stdout",
     "output_type": "stream",
     "text": [
      "b'1'\n",
      "b'2'\n",
      "b'3'\n",
      "b'4'\n",
      "b'5'\n"
     ]
    }
   ],
   "source": [
    "a=np.array([1,2,3,4,5])\n",
    "for x in np.nditer(a,flags=['buffered'],op_dtypes=['S']):\n",
    "    print(x)"
   ]
  },
  {
   "cell_type": "code",
   "execution_count": 45,
   "id": "c3274ec3",
   "metadata": {},
   "outputs": [
    {
     "name": "stdout",
     "output_type": "stream",
     "text": [
      "1\n",
      "3\n",
      "5\n",
      "7\n"
     ]
    }
   ],
   "source": [
    "a=np.array([[1,2,3,4],[5,6,7,8]])\n",
    "for x in np.nditer(a[:,::2]):\n",
    "    print(x)"
   ]
  },
  {
   "cell_type": "code",
   "execution_count": 46,
   "id": "6161733d",
   "metadata": {},
   "outputs": [
    {
     "name": "stdout",
     "output_type": "stream",
     "text": [
      "(0,) 1\n",
      "(1,) 2\n",
      "(2,) 3\n",
      "(3,) 4\n",
      "(0, 0) 1\n",
      "(0, 1) 2\n",
      "(0, 2) 3\n",
      "(0, 3) 4\n",
      "(1, 0) 5\n",
      "(1, 1) 6\n",
      "(1, 2) 7\n",
      "(1, 3) 8\n"
     ]
    }
   ],
   "source": [
    "#Enumerated iteration using ndenumerate()\n",
    "\n",
    "import numpy as np\n",
    "a=np.array([1,2,3,4])\n",
    "b=np.array([[1,2,3,4],[5,6,7,8]])\n",
    "for i,x in np.ndenumerate(a):\n",
    "    print(i,x)\n",
    "for i,x in np.ndenumerate(b):\n",
    "    print(i,x)"
   ]
  },
  {
   "cell_type": "code",
   "execution_count": 47,
   "id": "06857c1b",
   "metadata": {},
   "outputs": [
    {
     "name": "stdout",
     "output_type": "stream",
     "text": [
      "[1 2 3 4 5 6 7 8]\n",
      "First array\n",
      " [[1 2]\n",
      " [3 4]]\n",
      "Second array\n",
      " [[5 6]\n",
      " [7 8]]\n",
      "Result array\n",
      " [[1 2]\n",
      " [3 4]\n",
      " [5 6]\n",
      " [7 8]]\n"
     ]
    }
   ],
   "source": [
    "a=np.array([1,2,3,4])\n",
    "b=np.array([5,6,7,8])\n",
    "c=np.concatenate((a,b))\n",
    "print(c)\n",
    "a=np.array([[1,2],[3,4]])\n",
    "b=np.array([[5,6],[7,8]])\n",
    "c=np.concatenate((a,b))\n",
    "print(\"First array\\n\",a)\n",
    "print(\"Second array\\n\",b)\n",
    "print(\"Result array\\n\",c)"
   ]
  },
  {
   "cell_type": "code",
   "execution_count": 50,
   "id": "66eb0b3b",
   "metadata": {},
   "outputs": [
    {
     "name": "stdout",
     "output_type": "stream",
     "text": [
      "[[1 5]\n",
      " [2 6]\n",
      " [3 7]\n",
      " [4 8]]\n"
     ]
    }
   ],
   "source": [
    "c=np.concatenate((a,b),axis=1)\n",
    "\n",
    "#Joining arrays using stack function\n",
    "\n",
    "a=np.array([1,2,3,4])\n",
    "b=np.array([5,6,7,8])\n",
    "c=np.stack((a,b),axis=1)\n",
    "print(c)"
   ]
  },
  {
   "cell_type": "code",
   "execution_count": 51,
   "id": "22579d36",
   "metadata": {},
   "outputs": [
    {
     "name": "stdout",
     "output_type": "stream",
     "text": [
      "[1 2 3 4 5 6 7 8]\n"
     ]
    }
   ],
   "source": [
    "#stacking along rows\n",
    "\n",
    "import numpy as np\n",
    "a=np.array([1,2,3,4])\n",
    "b=np.array([5,6,7,8])\n",
    "c=np.hstack((a,b))\n",
    "print(c)\n",
    "c=np.vstack((a,b))"
   ]
  },
  {
   "cell_type": "code",
   "execution_count": 54,
   "id": "69238c84",
   "metadata": {},
   "outputs": [
    {
     "data": {
      "text/plain": [
       "array([[[1, 5],\n",
       "        [2, 6],\n",
       "        [3, 7],\n",
       "        [4, 8]]])"
      ]
     },
     "execution_count": 54,
     "metadata": {},
     "output_type": "execute_result"
    }
   ],
   "source": [
    "#Stacking along depth\n",
    "\n",
    "a=np.array([1,2,3,4])\n",
    "b=np.array([5,6,7,8])\n",
    "c=np.dstack((a,b))\n",
    "c"
   ]
  },
  {
   "cell_type": "code",
   "execution_count": 53,
   "id": "3377e032",
   "metadata": {},
   "outputs": [
    {
     "name": "stdout",
     "output_type": "stream",
     "text": [
      "[array([1, 2, 3]), array([4, 5, 6])]\n"
     ]
    }
   ],
   "source": [
    "#Spliting arrays\n",
    "\n",
    "import numpy as np\n",
    "a=np.array([1,2,3,4,5,6])\n",
    "b=np.array_split(a,2)\n",
    "print(b)"
   ]
  },
  {
   "cell_type": "code",
   "execution_count": 59,
   "id": "a5296f83",
   "metadata": {},
   "outputs": [
    {
     "name": "stdout",
     "output_type": "stream",
     "text": [
      "(array([3, 6, 9], dtype=int64),)\n"
     ]
    }
   ],
   "source": [
    "#searching arrays using where()\n",
    "\n",
    "import numpy as np\n",
    "a=np.array([1,2,3,4,5,6,4,7,8,4])\n",
    "b=np.where(a==4)\n",
    "print(b)"
   ]
  },
  {
   "cell_type": "code",
   "execution_count": 56,
   "id": "1d66bad5",
   "metadata": {},
   "outputs": [
    {
     "name": "stdout",
     "output_type": "stream",
     "text": [
      "(array([1, 3, 5, 6, 8, 9], dtype=int64),)\n"
     ]
    }
   ],
   "source": [
    "a=np.array([1,2,3,4,5,6,4,7,8,4])\n",
    "b=np.where(a%2==0)\n",
    "print(b)"
   ]
  },
  {
   "cell_type": "code",
   "execution_count": 57,
   "id": "c87cbc0a",
   "metadata": {},
   "outputs": [
    {
     "name": "stdout",
     "output_type": "stream",
     "text": [
      "6\n",
      "[10  2  3  9  0  1  8  4]\n"
     ]
    }
   ],
   "source": [
    "#Search sorted\n",
    "\n",
    "import numpy as np\n",
    "a=np.array([10,2,3,9,0,1,8,4])\n",
    "b=np.searchsorted(a,7)  #2nd argument shows that where 7 should be inserted\n",
    "print(b)\n",
    "print(a)"
   ]
  },
  {
   "cell_type": "code",
   "execution_count": 58,
   "id": "f164a243",
   "metadata": {},
   "outputs": [
    {
     "data": {
      "text/plain": [
       "6"
      ]
     },
     "execution_count": 58,
     "metadata": {},
     "output_type": "execute_result"
    }
   ],
   "source": [
    "b=np.searchsorted(a,1,side='right')\n",
    "b"
   ]
  },
  {
   "cell_type": "code",
   "execution_count": 2,
   "id": "252367b3",
   "metadata": {},
   "outputs": [
    {
     "data": {
      "text/plain": [
       "0.9282273981625324"
      ]
     },
     "execution_count": 2,
     "metadata": {},
     "output_type": "execute_result"
    }
   ],
   "source": [
    "from numpy import random\n",
    "x=random.rand()\n",
    "x"
   ]
  },
  {
   "cell_type": "code",
   "execution_count": 3,
   "id": "68a319a1",
   "metadata": {},
   "outputs": [
    {
     "data": {
      "text/plain": [
       "0.5127868891397949"
      ]
     },
     "execution_count": 3,
     "metadata": {},
     "output_type": "execute_result"
    }
   ],
   "source": [
    "from numpy import random\n",
    "x=random.rand()\n",
    "x"
   ]
  },
  {
   "cell_type": "code",
   "execution_count": 4,
   "id": "ab81f0df",
   "metadata": {},
   "outputs": [
    {
     "name": "stdout",
     "output_type": "stream",
     "text": [
      "29\n"
     ]
    }
   ],
   "source": [
    "x=random.randint(50)\n",
    "print(x)"
   ]
  },
  {
   "cell_type": "code",
   "execution_count": 5,
   "id": "1b1404bd",
   "metadata": {},
   "outputs": [
    {
     "name": "stdout",
     "output_type": "stream",
     "text": [
      "20\n"
     ]
    }
   ],
   "source": [
    "x=random.randint(50)\n",
    "print(x)"
   ]
  },
  {
   "cell_type": "code",
   "execution_count": 8,
   "id": "460518e2",
   "metadata": {},
   "outputs": [
    {
     "name": "stdout",
     "output_type": "stream",
     "text": [
      "11\n"
     ]
    }
   ],
   "source": [
    "x=random.randint(50)\n",
    "print(x)"
   ]
  },
  {
   "cell_type": "code",
   "execution_count": 9,
   "id": "192c7d84",
   "metadata": {},
   "outputs": [
    {
     "data": {
      "text/plain": [
       "array([31, 33, 27, 35,  7, 10, 42, 21,  0, 10])"
      ]
     },
     "execution_count": 9,
     "metadata": {},
     "output_type": "execute_result"
    }
   ],
   "source": [
    "x=random.randint(50,size=10)\n",
    "x"
   ]
  },
  {
   "cell_type": "code",
   "execution_count": 10,
   "id": "4698bc0f",
   "metadata": {},
   "outputs": [
    {
     "data": {
      "text/plain": [
       "array([39, 31, 35, 22, 42])"
      ]
     },
     "execution_count": 10,
     "metadata": {},
     "output_type": "execute_result"
    }
   ],
   "source": [
    "x=random.randint(50,size=5)\n",
    "x"
   ]
  },
  {
   "cell_type": "code",
   "execution_count": 11,
   "id": "20090c07",
   "metadata": {},
   "outputs": [
    {
     "data": {
      "text/plain": [
       "array([41, 47, 25, 18,  3, 37, 39, 33, 10, 42])"
      ]
     },
     "execution_count": 11,
     "metadata": {},
     "output_type": "execute_result"
    }
   ],
   "source": [
    "x=random.randint(50,size=10)\n",
    "x"
   ]
  },
  {
   "cell_type": "code",
   "execution_count": 12,
   "id": "fb4134da",
   "metadata": {},
   "outputs": [
    {
     "data": {
      "text/plain": [
       "array([[17, 24, 44],\n",
       "       [11,  1, 44],\n",
       "       [12, 49, 45]])"
      ]
     },
     "execution_count": 12,
     "metadata": {},
     "output_type": "execute_result"
    }
   ],
   "source": [
    "x=random.randint(50,size=(3,3))\n",
    "x"
   ]
  },
  {
   "cell_type": "code",
   "execution_count": 13,
   "id": "e81c652c",
   "metadata": {},
   "outputs": [
    {
     "data": {
      "text/plain": [
       "array([[25,  5, 42],\n",
       "       [40, 12, 20],\n",
       "       [ 1,  9, 28]])"
      ]
     },
     "execution_count": 13,
     "metadata": {},
     "output_type": "execute_result"
    }
   ],
   "source": [
    "x=random.randint(50,size=(3,3))\n",
    "x"
   ]
  },
  {
   "cell_type": "code",
   "execution_count": 14,
   "id": "4430fe55",
   "metadata": {},
   "outputs": [
    {
     "data": {
      "text/plain": [
       "array([0.61209751, 0.61926535, 0.48271582, 0.61581268, 0.00253367,\n",
       "       0.7567178 , 0.2315243 , 0.36962139, 0.14355619, 0.73654639])"
      ]
     },
     "execution_count": 14,
     "metadata": {},
     "output_type": "execute_result"
    }
   ],
   "source": [
    "x=random.rand(10)\n",
    "x"
   ]
  },
  {
   "cell_type": "code",
   "execution_count": 15,
   "id": "3e4be258",
   "metadata": {},
   "outputs": [
    {
     "data": {
      "text/plain": [
       "8"
      ]
     },
     "execution_count": 15,
     "metadata": {},
     "output_type": "execute_result"
    }
   ],
   "source": [
    "x=random.choice([5,8,12,9,0])\n",
    "x"
   ]
  },
  {
   "cell_type": "code",
   "execution_count": 16,
   "id": "3ae64898",
   "metadata": {},
   "outputs": [
    {
     "data": {
      "text/plain": [
       "8"
      ]
     },
     "execution_count": 16,
     "metadata": {},
     "output_type": "execute_result"
    }
   ],
   "source": [
    "x=random.choice([5,8,12,9,0])\n",
    "x"
   ]
  },
  {
   "cell_type": "code",
   "execution_count": 21,
   "id": "ab49e3b1",
   "metadata": {},
   "outputs": [
    {
     "data": {
      "text/plain": [
       "5"
      ]
     },
     "execution_count": 21,
     "metadata": {},
     "output_type": "execute_result"
    }
   ],
   "source": [
    "x=random.choice([5,8,12,9,0])\n",
    "x"
   ]
  },
  {
   "cell_type": "code",
   "execution_count": 22,
   "id": "8b08e31e",
   "metadata": {},
   "outputs": [
    {
     "data": {
      "text/plain": [
       "array([[12,  9,  8],\n",
       "       [ 0,  5,  5],\n",
       "       [ 8, 12,  8]])"
      ]
     },
     "execution_count": 22,
     "metadata": {},
     "output_type": "execute_result"
    }
   ],
   "source": [
    "x=random.choice([5,8,12,9,0],size=(3,3))\n",
    "x"
   ]
  },
  {
   "cell_type": "code",
   "execution_count": 23,
   "id": "aef867ec",
   "metadata": {},
   "outputs": [
    {
     "data": {
      "text/plain": [
       "array([[9, 8],\n",
       "       [8, 5]])"
      ]
     },
     "execution_count": 23,
     "metadata": {},
     "output_type": "execute_result"
    }
   ],
   "source": [
    "x=random.choice([5,8,12,9,0],size=(2,2))\n",
    "x"
   ]
  },
  {
   "cell_type": "code",
   "execution_count": 24,
   "id": "f6085912",
   "metadata": {},
   "outputs": [
    {
     "data": {
      "text/plain": [
       "array([[8, 5, 9]])"
      ]
     },
     "execution_count": 24,
     "metadata": {},
     "output_type": "execute_result"
    }
   ],
   "source": [
    "x=random.choice([5,8,12,9,0],size=(1,3))\n",
    "x"
   ]
  },
  {
   "cell_type": "code",
   "execution_count": 25,
   "id": "a3316949",
   "metadata": {},
   "outputs": [
    {
     "data": {
      "text/plain": [
       "array([[ 9,  8, 12, 12,  0],\n",
       "       [12,  9,  5,  9,  9],\n",
       "       [ 8,  5,  5,  0,  5]])"
      ]
     },
     "execution_count": 25,
     "metadata": {},
     "output_type": "execute_result"
    }
   ],
   "source": [
    "x=random.choice([5,8,12,9,0],size=(3,5))\n",
    "x"
   ]
  },
  {
   "cell_type": "markdown",
   "id": "e1e0fdf4",
   "metadata": {},
   "source": [
    "# Permutation\n",
    "\n",
    "It has two methods:\n",
    "\n",
    "Shuffle-make changes in the original array\n",
    "Permutation-it returns a new array and leaves the original array as it is."
   ]
  },
  {
   "cell_type": "code",
   "execution_count": 30,
   "id": "d0bf7c83",
   "metadata": {},
   "outputs": [
    {
     "name": "stdout",
     "output_type": "stream",
     "text": [
      "[1 2 5 3 4]\n"
     ]
    }
   ],
   "source": [
    "from numpy import random\n",
    "import numpy as np\n",
    "a=np.array([1,2,3,4,5])\n",
    "random.shuffle(a)\n",
    "print(a)"
   ]
  },
  {
   "cell_type": "code",
   "execution_count": 36,
   "id": "44663ad6",
   "metadata": {},
   "outputs": [
    {
     "data": {
      "text/plain": [
       "array([3, 1, 2, 5, 4])"
      ]
     },
     "execution_count": 36,
     "metadata": {},
     "output_type": "execute_result"
    }
   ],
   "source": [
    "b=random.permutation(a)\n",
    "b"
   ]
  },
  {
   "cell_type": "code",
   "execution_count": 45,
   "id": "82dc6557",
   "metadata": {},
   "outputs": [
    {
     "name": "stderr",
     "output_type": "stream",
     "text": [
      "C:\\Users\\ACER\\AppData\\Local\\Temp\\ipykernel_12324\\899915381.py:3: UserWarning: \n",
      "\n",
      "`distplot` is a deprecated function and will be removed in seaborn v0.14.0.\n",
      "\n",
      "Please adapt your code to use either `displot` (a figure-level function with\n",
      "similar flexibility) or `histplot` (an axes-level function for histograms).\n",
      "\n",
      "For a guide to updating your code to use the new functions, please see\n",
      "https://gist.github.com/mwaskom/de44147ed2974457ad6372750bbe5751\n",
      "\n",
      "  sb.distplot([10,20,90,40,50,10])\n"
     ]
    },
    {
     "data": {
      "image/png": "[encoded data removed]",
      "text/plain": [
       "<Figure size 640x480 with 1 Axes>"
      ]
     },
     "metadata": {},
     "output_type": "display_data"
    }
   ],
   "source": [
    "import matplotlib.pyplot as plt\n",
    "import seaborn as sb\n",
    "sb.distplot([10,20,90,40,50,10])\n",
    "plt.show()"
   ]
  },
  {
   "cell_type": "code",
   "execution_count": 47,
   "id": "245b1aa9",
   "metadata": {},
   "outputs": [
    {
     "name": "stderr",
     "output_type": "stream",
     "text": [
      "C:\\Users\\ACER\\AppData\\Local\\Temp\\ipykernel_12324\\977335956.py:3: UserWarning: \n",
      "\n",
      "`distplot` is a deprecated function and will be removed in seaborn v0.14.0.\n",
      "\n",
      "Please adapt your code to use either `displot` (a figure-level function with\n",
      "similar flexibility) or `histplot` (an axes-level function for histograms).\n",
      "\n",
      "For a guide to updating your code to use the new functions, please see\n",
      "https://gist.github.com/mwaskom/de44147ed2974457ad6372750bbe5751\n",
      "\n",
      "  sb.distplot([10,20,90,40,50,10])\n",
      "C:\\Users\\ACER\\AppData\\Local\\Temp\\ipykernel_12324\\977335956.py:4: UserWarning: \n",
      "\n",
      "`distplot` is a deprecated function and will be removed in seaborn v0.14.0.\n",
      "\n",
      "Please adapt your code to use either `displot` (a figure-level function with\n",
      "similar flexibility) or `kdeplot` (an axes-level function for kernel density plots).\n",
      "\n",
      "For a guide to updating your code to use the new functions, please see\n",
      "https://gist.github.com/mwaskom/de44147ed2974457ad6372750bbe5751\n",
      "\n",
      "  sb.distplot([10,20,30,40,50,60],hist=False)\n"
     ]
    },
    {
     "data": {
      "image/png": "[encoded data removed]",
      "text/plain": [
       "<Figure size 640x480 with 1 Axes>"
      ]
     },
     "metadata": {},
     "output_type": "display_data"
    }
   ],
   "source": [
    "import matplotlib.pyplot as plt\n",
    "import seaborn as sb\n",
    "sb.distplot([10,20,90,40,50,10])\n",
    "sb.distplot([10,20,30,40,50,60],hist=False)\n",
    "plt.show()"
   ]
  },
  {
   "cell_type": "code",
   "execution_count": 48,
   "id": "b0101bba",
   "metadata": {},
   "outputs": [
    {
     "name": "stderr",
     "output_type": "stream",
     "text": [
      "C:\\Users\\ACER\\AppData\\Local\\Temp\\ipykernel_12324\\2045315090.py:1: UserWarning: \n",
      "\n",
      "`distplot` is a deprecated function and will be removed in seaborn v0.14.0.\n",
      "\n",
      "Please adapt your code to use either `displot` (a figure-level function with\n",
      "similar flexibility) or `kdeplot` (an axes-level function for kernel density plots).\n",
      "\n",
      "For a guide to updating your code to use the new functions, please see\n",
      "https://gist.github.com/mwaskom/de44147ed2974457ad6372750bbe5751\n",
      "\n",
      "  sb.distplot([10,20,30,40,50,60],hist=False)\n"
     ]
    },
    {
     "data": {
      "text/plain": [
       "<Axes: ylabel='Density'>"
      ]
     },
     "execution_count": 48,
     "metadata": {},
     "output_type": "execute_result"
    },
    {
     "data": {
      "image/png": "[encoded data removed]",
      "text/plain": [
       "<Figure size 640x480 with 1 Axes>"
      ]
     },
     "metadata": {},
     "output_type": "display_data"
    }
   ],
   "source": [
    "sb.distplot([10,20,30,40,50,60],hist=False)"
   ]
  },
  {
   "cell_type": "markdown",
   "id": "d51ec649",
   "metadata": {},
   "source": [
    "# Normal distribution or Gaussian distribution\n",
    " # random.normal() is used for normal distribution\n",
    " # It supports 3 parameters\n",
    " # LOC-Mean(peak value of the curve)\n",
    " # Scale-SD(Flag section)\n",
    " # size-The shape of the resultant array"
   ]
  },
  {
   "cell_type": "code",
   "execution_count": 49,
   "id": "dd14238f",
   "metadata": {},
   "outputs": [
    {
     "name": "stdout",
     "output_type": "stream",
     "text": [
      "[-0.18818302  1.01915139 -1.4683181   0.02434541 -1.50040553]\n"
     ]
    }
   ],
   "source": [
    "x=random.normal(size=5)\n",
    "print(x)"
   ]
  },
  {
   "cell_type": "code",
   "execution_count": 53,
   "id": "8eea66fb",
   "metadata": {},
   "outputs": [
    {
     "name": "stdout",
     "output_type": "stream",
     "text": [
      "[ 1.37213947 -0.63126057 -1.33120433  1.07065339 -1.49963896]\n"
     ]
    }
   ],
   "source": [
    "x=random.normal(size=5)\n",
    "print(x)\n",
    "x=random.normal(size=(3,2))"
   ]
  },
  {
   "cell_type": "code",
   "execution_count": 74,
   "id": "c25af7ab",
   "metadata": {},
   "outputs": [
    {
     "name": "stderr",
     "output_type": "stream",
     "text": [
      "C:\\Users\\ACER\\AppData\\Local\\Temp\\ipykernel_12324\\2111796339.py:2: UserWarning: \n",
      "\n",
      "`distplot` is a deprecated function and will be removed in seaborn v0.14.0.\n",
      "\n",
      "Please adapt your code to use either `displot` (a figure-level function with\n",
      "similar flexibility) or `kdeplot` (an axes-level function for kernel density plots).\n",
      "\n",
      "For a guide to updating your code to use the new functions, please see\n",
      "https://gist.github.com/mwaskom/de44147ed2974457ad6372750bbe5751\n",
      "\n",
      "  sb.distplot(x,hist=False)\n"
     ]
    },
    {
     "data": {
      "image/png": "[encoded data removed]",
      "text/plain": [
       "<Figure size 640x480 with 1 Axes>"
      ]
     },
     "metadata": {},
     "output_type": "display_data"
    }
   ],
   "source": [
    "x=random.normal(loc=10,scale=5,size=500)\n",
    "sb.distplot(x,hist=False)\n",
    "plt.show()"
   ]
  },
  {
   "cell_type": "markdown",
   "id": "6d91a0a5",
   "metadata": {},
   "source": [
    "# Binomial distribution or Discrete distribution \n",
    "Ex:Toss of a coin,it has 3 arguments 1 No of trails(n) 2 Probability of occurence of each trials(p=0.5 each) 3 Size of the resultant array"
   ]
  },
  {
   "cell_type": "code",
   "execution_count": 4,
   "id": "b8ccd307",
   "metadata": {},
   "outputs": [],
   "source": [
    "from numpy import random\n",
    "import matplotlib.pyplot as plt\n",
    "import seaborn as sb"
   ]
  },
  {
   "cell_type": "code",
   "execution_count": 5,
   "id": "dc7dc1c8",
   "metadata": {},
   "outputs": [
    {
     "name": "stdout",
     "output_type": "stream",
     "text": [
      "[7 6 4 7 3 3 4 5 6 7]\n"
     ]
    }
   ],
   "source": [
    "a=random.binomial(n=10,p=0.5,size=10)\n",
    "print(a)"
   ]
  },
  {
   "cell_type": "code",
   "execution_count": 6,
   "id": "25ea277e",
   "metadata": {},
   "outputs": [
    {
     "name": "stderr",
     "output_type": "stream",
     "text": [
      "C:\\Users\\ACER\\AppData\\Local\\Temp\\ipykernel_16844\\1857515851.py:2: UserWarning: \n",
      "\n",
      "`distplot` is a deprecated function and will be removed in seaborn v0.14.0.\n",
      "\n",
      "Please adapt your code to use either `displot` (a figure-level function with\n",
      "similar flexibility) or `histplot` (an axes-level function for histograms).\n",
      "\n",
      "For a guide to updating your code to use the new functions, please see\n",
      "https://gist.github.com/mwaskom/de44147ed2974457ad6372750bbe5751\n",
      "\n",
      "  sb.distplot(a,kde=False)\n"
     ]
    },
    {
     "data": {
      "image/png": "[encoded data removed]",
      "text/plain": [
       "<Figure size 640x480 with 1 Axes>"
      ]
     },
     "metadata": {},
     "output_type": "display_data"
    }
   ],
   "source": [
    "a=random.binomial(n=10,p=0.5,size=1000)\n",
    "sb.distplot(a,kde=False)\n",
    "plt.show()"
   ]
  },
  {
   "cell_type": "code",
   "execution_count": 7,
   "id": "e4847a1c",
   "metadata": {},
   "outputs": [
    {
     "name": "stderr",
     "output_type": "stream",
     "text": [
      "C:\\Users\\ACER\\AppData\\Local\\Temp\\ipykernel_16844\\2449203952.py:3: UserWarning: \n",
      "\n",
      "`distplot` is a deprecated function and will be removed in seaborn v0.14.0.\n",
      "\n",
      "Please adapt your code to use either `displot` (a figure-level function with\n",
      "similar flexibility) or `kdeplot` (an axes-level function for kernel density plots).\n",
      "\n",
      "For a guide to updating your code to use the new functions, please see\n",
      "https://gist.github.com/mwaskom/de44147ed2974457ad6372750bbe5751\n",
      "\n",
      "  sb.distplot(a,hist=False)\n",
      "C:\\Users\\ACER\\AppData\\Local\\Temp\\ipykernel_16844\\2449203952.py:4: UserWarning: \n",
      "\n",
      "`distplot` is a deprecated function and will be removed in seaborn v0.14.0.\n",
      "\n",
      "Please adapt your code to use either `displot` (a figure-level function with\n",
      "similar flexibility) or `kdeplot` (an axes-level function for kernel density plots).\n",
      "\n",
      "For a guide to updating your code to use the new functions, please see\n",
      "https://gist.github.com/mwaskom/de44147ed2974457ad6372750bbe5751\n",
      "\n",
      "  sb.distplot(b,hist=False)\n"
     ]
    },
    {
     "data": {
      "image/png": "[encoded data removed]",
      "text/plain": [
       "<Figure size 640x480 with 1 Axes>"
      ]
     },
     "metadata": {},
     "output_type": "display_data"
    }
   ],
   "source": [
    "a=random.binomial(n=100,p=0.5,size=1000)\n",
    "b=random.normal(loc=50,scale=5,size=1000)\n",
    "sb.distplot(a,hist=False)\n",
    "sb.distplot(b,hist=False)\n",
    "plt.show()"
   ]
  },
  {
   "cell_type": "markdown",
   "id": "c7922151",
   "metadata": {},
   "source": [
    "# Poisson distribution\n",
    "\n",
    "* It is also a discrete distribution\n",
    "* It has 2 attributes\n",
    "* known number of occurences/rate of occurence(lam)\n",
    "* Shape of the resultant array(size)"
   ]
  },
  {
   "cell_type": "code",
   "execution_count": 10,
   "id": "66558099",
   "metadata": {},
   "outputs": [
    {
     "name": "stdout",
     "output_type": "stream",
     "text": [
      "[0 2 2 2 4 3 8 3 3 2 2 2 0 5 3 5 1 3 1 4 1 3 4 2 2 3 2 2 1 4]\n"
     ]
    }
   ],
   "source": [
    "a=random.poisson(lam=3,size=30)\n",
    "print(a)"
   ]
  },
  {
   "cell_type": "code",
   "execution_count": 11,
   "id": "82e3ba09",
   "metadata": {},
   "outputs": [
    {
     "name": "stderr",
     "output_type": "stream",
     "text": [
      "C:\\Users\\ACER\\AppData\\Local\\Temp\\ipykernel_16844\\1809303956.py:2: UserWarning: \n",
      "\n",
      "`distplot` is a deprecated function and will be removed in seaborn v0.14.0.\n",
      "\n",
      "Please adapt your code to use either `displot` (a figure-level function with\n",
      "similar flexibility) or `histplot` (an axes-level function for histograms).\n",
      "\n",
      "For a guide to updating your code to use the new functions, please see\n",
      "https://gist.github.com/mwaskom/de44147ed2974457ad6372750bbe5751\n",
      "\n",
      "  sb.distplot(a,kde=False)\n"
     ]
    },
    {
     "data": {
      "image/png": "[encoded data removed]",
      "text/plain": [
       "<Figure size 640x480 with 1 Axes>"
      ]
     },
     "metadata": {},
     "output_type": "display_data"
    }
   ],
   "source": [
    "a=random.poisson(lam=3,size=1000)\n",
    "sb.distplot(a,kde=False)\n",
    "plt.show()"
   ]
  },
  {
   "cell_type": "markdown",
   "id": "db9a028c",
   "metadata": {},
   "source": [
    "# Uniform distribution\n",
    "\n",
    "* The event has equal chances of occuring\n",
    "* It has 3 paramters 1.Lower bound(a=0)\n",
    "* default 2.Upper bound(a=1)\n",
    "* default 3.Shape of the array(size)"
   ]
  },
  {
   "cell_type": "code",
   "execution_count": 12,
   "id": "98b68755",
   "metadata": {},
   "outputs": [
    {
     "name": "stdout",
     "output_type": "stream",
     "text": [
      "[[0.7040972  0.80742406 0.2076147 ]\n",
      " [0.74343187 0.12760314 0.68250372]\n",
      " [0.04518669 0.72153948 0.35912899]]\n"
     ]
    }
   ],
   "source": [
    "a=random.uniform(size=(3,3))\n",
    "print(a)"
   ]
  },
  {
   "cell_type": "code",
   "execution_count": 13,
   "id": "c5ca2110",
   "metadata": {},
   "outputs": [
    {
     "name": "stderr",
     "output_type": "stream",
     "text": [
      "C:\\Users\\ACER\\AppData\\Local\\Temp\\ipykernel_16844\\1163589992.py:1: UserWarning: \n",
      "\n",
      "`distplot` is a deprecated function and will be removed in seaborn v0.14.0.\n",
      "\n",
      "Please adapt your code to use either `displot` (a figure-level function with\n",
      "similar flexibility) or `kdeplot` (an axes-level function for kernel density plots).\n",
      "\n",
      "For a guide to updating your code to use the new functions, please see\n",
      "https://gist.github.com/mwaskom/de44147ed2974457ad6372750bbe5751\n",
      "\n",
      "  sb.distplot(a,hist=False)\n"
     ]
    },
    {
     "data": {
      "image/png": "[encoded data removed]",
      "text/plain": [
       "<Figure size 640x480 with 1 Axes>"
      ]
     },
     "metadata": {},
     "output_type": "display_data"
    }
   ],
   "source": [
    "sb.distplot(a,hist=False)\n",
    "plt.show()"
   ]
  },
  {
   "cell_type": "markdown",
   "id": "f2726f2f",
   "metadata": {},
   "source": [
    "# Logistic distribution\n",
    "\n",
    "* It is used in Machine learning for logistic regression\n",
    "* It is used in neural networks\n",
    "* It is used to represent the growth\n",
    "* It has 3 attributes 1.loc-Mean(default 0) 2.Scale-SD(default 1) 3.shape of the array(size)"
   ]
  },
  {
   "cell_type": "code",
   "execution_count": 23,
   "id": "eb2f7e18",
   "metadata": {},
   "outputs": [
    {
     "name": "stdout",
     "output_type": "stream",
     "text": [
      "[-2.58389556e+00 -3.24752653e-01 -8.72887860e-01  2.05068802e+00\n",
      "  2.17191623e+00  2.55241942e-01 -2.23932990e+00  1.30365580e+00\n",
      " -3.68407799e-01 -1.11650564e-01  6.88331217e+00  4.22286680e+00\n",
      " -2.65523329e+00  1.02976091e+00  1.13997669e+00  2.10837510e+00\n",
      "  3.71606796e+00  6.67373089e+00 -2.78197953e+00  6.14181959e+00\n",
      "  2.61588419e+00  2.11827405e+00 -2.72144085e+00 -4.94395799e+00\n",
      "  5.49254838e+00  1.83935564e+00  3.08980765e-01  9.94813545e-03\n",
      " -2.53016003e-01 -9.20339933e-01 -3.18681647e-01  4.08888899e+00\n",
      "  4.75359395e+00  3.02993203e+00  1.46154415e+01  3.07975849e+00\n",
      "  4.53205324e+00  3.66474823e+00  1.08312947e+00  3.32316475e+00\n",
      " -3.54323815e-01  2.91455584e+00  2.95787821e+00  1.41596539e+00\n",
      " -1.16484370e+00  4.62205729e+00  4.68660849e-01 -4.94007433e+00\n",
      "  2.90488085e-01  1.83689328e-02 -9.12508431e-01  5.57829367e+00\n",
      "  1.72648786e+00  8.62457299e+00  6.53283293e+00 -1.40601925e+00\n",
      " -6.92102900e-01  3.28993642e-01 -1.05230982e+00  3.16168876e+00\n",
      "  9.03240482e-01  5.04604404e+00  1.06812163e+00  1.09473574e+00\n",
      "  3.69668193e+00  3.50529962e+00  7.66154624e+00  5.63542300e-02\n",
      "  6.64226326e-01  3.47045313e+00  5.28001795e+00  3.35200102e+00\n",
      "  4.84254896e+00  6.20590949e-02  6.61800989e-02  1.59389131e+00\n",
      "  9.40851842e-01 -5.99589166e+00  1.79363763e-01 -6.58990343e-02\n",
      " -5.88665810e-01  3.39071158e+00  9.42870819e-01 -4.02724870e+00\n",
      "  6.95719167e+00  1.90579132e+00  3.68917051e-01  6.81853988e-01\n",
      " -5.06461081e-01  1.15282926e+01  1.58277151e+00 -2.70527848e+00\n",
      "  1.45321977e+00  2.36348064e+00  9.03851711e-01  3.22515151e+00\n",
      "  3.65425036e+00  4.44375013e+00  2.76825721e+00  6.45547443e-01\n",
      " -1.53850110e+00  1.34803599e+00  5.46393716e-01  1.81603060e+00\n",
      "  4.22331112e+00  1.91321776e+00  2.62531220e+00  1.26479938e+00\n",
      " -1.18157251e+00 -2.67383940e+00  3.57732572e+00  1.09437656e+00\n",
      " -9.70163454e-01 -5.30025020e+00 -5.90233230e-04  3.12898676e-01\n",
      "  1.16237893e+00  5.43773395e-01 -4.38825357e+00  1.97679191e+00\n",
      "  7.27827426e+00 -2.22987159e-01  9.63872203e+00  2.75830082e+00\n",
      "  3.93707132e+00  2.97396376e+00 -7.99463323e-01  1.74868450e+00\n",
      "  1.84714370e+00  2.10895245e+00 -3.50559843e+00  2.05663887e+00\n",
      "  4.78570503e+00  1.07269397e+00  2.91637754e+00  1.97854629e+00\n",
      " -5.54490048e-01  6.26549502e+00 -5.79816790e-01 -2.70251294e+00\n",
      "  4.82287178e+00 -1.55336953e+00 -5.93764644e-02 -5.60330815e-01\n",
      " -4.95334647e-01  1.68393598e+00 -1.29301448e+00  1.82931600e+00\n",
      " -1.44883588e-01  4.25879496e+00  1.85518914e+00 -2.58588105e-01\n",
      "  5.06715902e-01 -2.26609295e+00  1.49830539e+01 -1.93218111e+00\n",
      " -1.68281608e+00 -1.92762885e+00  3.92746271e+00  7.26766901e-01\n",
      "  2.93551124e+00 -1.83459278e+00  2.32892439e-01 -9.01888827e-01\n",
      " -2.79242311e+00 -6.07891522e+00  6.41554899e+00  1.58018386e+00\n",
      "  5.20725965e+00  1.61230247e+00  5.81237866e+00 -1.04428455e+00\n",
      "  1.11155949e+00  2.95370868e+00 -6.95780766e+00  1.51621554e+00\n",
      " -9.85492937e+00 -3.27084536e+00  1.33718496e+00  4.34626394e+00\n",
      "  6.46521800e-01  1.12995806e+00  4.26012911e+00 -2.94306122e-01\n",
      " -6.46144990e+00  1.25243224e+00  2.28449375e+00  5.46965853e+00\n",
      "  3.83691752e+00 -2.69542330e+00  8.75772861e-01 -4.27781165e+00\n",
      " -3.90193822e+00  4.22417589e+00  1.58232908e+00 -5.22542891e+00\n",
      "  1.17173882e+00  5.45797220e+00  6.73379678e+00  6.31404322e-01\n",
      " -4.32546057e-01 -4.50315497e-01 -2.49073946e+00  4.40015903e+00\n",
      "  2.56659880e+00  3.30688824e+00  2.62783884e+00  6.88181121e+00\n",
      "  3.37824311e+00  2.29290326e+00  1.63476631e+00  2.22474055e+00\n",
      " -3.05995557e+00 -2.34459870e+00  2.04171665e+00  2.14033380e+00\n",
      "  9.74513213e-02  2.05255422e+00  5.10077019e+00  4.01564920e+00\n",
      "  4.28838847e+00 -6.19452637e+00  2.88501190e-01  4.57418923e+00\n",
      "  1.26412561e+00 -2.36302145e-01  1.82904687e+00  1.89737064e+00\n",
      " -5.87400875e+00 -1.25213628e+00  3.88466779e-01 -6.98171682e-01\n",
      " -9.39771092e-01  3.39537729e+00  4.01283410e+00 -2.52329075e+00\n",
      "  3.64713942e+00 -2.98634502e+00  1.95500266e+00  3.59521185e+00\n",
      "  7.98962255e+00  2.78821155e+00  3.60398454e+00 -3.03403594e+00\n",
      "  1.86657129e+00 -4.10878480e+00  7.51830689e+00 -4.77967509e+00\n",
      "  1.88976769e+00  2.49167467e+00 -1.75480002e+00 -3.26204697e+00\n",
      "  5.04811210e-01  2.23071516e+00  1.18981567e+00  2.82352655e+00\n",
      "  8.30763517e+00  2.90913304e+00  2.38253302e+00  3.85319082e+00\n",
      "  6.88104479e+00  2.44283867e+00 -1.01431746e+00 -1.70732178e-01\n",
      "  4.26841501e-01  2.36975259e+00  2.22287232e+00 -4.59056551e+00\n",
      "  1.80271700e+00 -1.74525336e+00 -2.33365267e+00  2.79892151e+00\n",
      " -4.87139122e+00  6.78349653e-01 -5.80975087e-01  1.10910749e+00\n",
      " -3.53586893e+00  6.00530614e-01  5.73251717e+00  1.39157435e+00\n",
      "  1.48280759e+00 -4.30180924e+00  7.35794319e+00 -2.75112907e+00\n",
      " -1.91026440e+00 -4.24310823e-01  1.65716791e+00 -1.94271516e+00\n",
      "  3.26439942e+00  3.57168291e+00 -1.72487908e+00 -1.20385948e-01\n",
      " -5.00116811e+00 -3.68607226e+00 -1.84931959e+00  1.81746048e+00\n",
      " -1.40717112e-01 -6.52396338e+00 -1.54469113e+00  1.38981887e+00\n",
      "  3.74267079e+00  3.91853109e+00  1.25311774e+00 -2.60759847e+00\n",
      " -2.11925114e+00  1.03678816e+00 -2.34145609e-01  2.21896117e+00\n",
      "  3.74019813e+00  3.12097948e+00  1.27556116e+00  5.00616459e+00\n",
      " -5.01730370e-01  2.32907541e+00  3.75912403e+00 -6.69623201e-01\n",
      "  2.95651210e-01  3.32529761e+00  7.26021004e+00 -4.90396527e+00\n",
      "  3.70340662e+00  3.08741131e+00  1.18395278e+00  2.16242471e+00\n",
      " -2.09695256e+00  3.12280296e+00  9.01129308e-01 -6.97066956e-01\n",
      " -3.04870543e+00  3.43797748e+00 -2.62829408e+00 -2.79055482e+00\n",
      " -1.24736384e-01 -2.19380111e-01 -1.12000085e+00 -6.13794894e+00\n",
      " -2.56431337e+00 -8.34367756e-01 -1.16633922e+00  3.03658363e+00\n",
      "  2.71290549e+00 -7.60600335e-02  7.71958227e-01  5.40381385e-01\n",
      "  9.84990613e-01  8.01168227e+00  8.78594861e+00  1.22539977e+00\n",
      "  2.96110034e-01  2.16261729e+00  6.01391481e-03 -1.34125293e+00\n",
      "  4.08499843e+00 -5.98736555e+00  6.11529520e-01 -2.82768339e-01\n",
      "  3.97639370e+00  3.94609441e-01 -2.04067663e+00 -5.62028616e+00\n",
      "  1.95043947e+00  3.99270796e+00 -3.57730769e+00 -3.25129353e+00\n",
      "  3.28325832e+00  1.44342816e+00  9.57303809e+00  1.12503258e+00\n",
      " -2.05080641e+00  1.42265410e-01  6.20979730e+00  1.48697666e+00\n",
      "  5.43015097e+00 -1.97827158e+00 -1.15145116e+00 -3.32928209e+00\n",
      "  1.01839673e+00 -4.25994974e+00 -1.77777926e-01  2.78680064e-01\n",
      " -2.29813684e+00  5.21657953e+00  1.84683685e+00  5.58163045e+00\n",
      "  9.00229464e-01  8.94166668e-01 -1.97007242e+00  8.51431457e+00\n",
      "  6.48803335e-01  1.32176912e+00  9.61494359e-01  2.83606282e+00\n",
      "  1.09303440e+00  2.32185927e+00 -8.87247876e+00  1.03009745e+00\n",
      "  8.81438673e-01 -4.59103269e-01  7.77027247e+00  2.15829855e+00\n",
      " -5.25157844e-01  1.32676240e+01  4.23521856e-01  5.55537895e+00\n",
      " -3.12313031e+00  5.84215511e-01 -2.89803356e+00  6.27613179e+00\n",
      " -3.52558686e+00 -1.72285207e+00  1.88737051e+00 -2.23800923e+00\n",
      "  6.96629999e+00  1.74208991e+00 -1.18270411e+00 -1.18136919e+00\n",
      "  6.94802876e-01  1.28690843e+00 -1.69068808e+00 -5.46796638e+00\n",
      "  1.24404766e+00  2.10863924e+00  2.69973126e+00  7.03839511e+00\n",
      "  8.66383562e-01 -1.29428427e+00  7.13888300e-01 -1.96401831e+00\n",
      "  3.02459786e+00 -2.22463681e-01 -1.10105175e+00  3.85650441e+00\n",
      "  4.65018646e-01 -1.59968786e+00  1.35187695e+00  2.43163075e-01\n",
      " -9.39604890e-01  3.54012550e+00 -6.76196043e-01  4.95847167e+00\n",
      "  1.19708416e+00 -1.30421758e+00  5.64606809e+00  1.52784223e+00\n",
      "  1.86144158e+00  2.91296338e-01  3.52301386e+00 -9.63649565e-01\n",
      " -1.80576851e+00  6.62813871e+00 -6.18222953e-01 -7.68296321e-01\n",
      " -3.07100619e+00  3.03658235e-01  4.20548432e-01  8.85740295e-01\n",
      "  6.35922108e-02  6.24247855e-01  2.10417667e-01  1.08089404e+00\n",
      "  1.87517683e+00  5.60267426e+00  5.81681122e+00  9.99963060e-02\n",
      " -1.80035973e+00 -1.34569284e+00  8.45660221e-02  4.85131545e+00\n",
      "  3.13771567e-01  4.20301541e+00 -2.52899787e+00 -1.04966028e+00\n",
      "  5.01864695e+00  7.60428376e+00 -5.61516770e-01 -5.96758416e-03\n",
      "  1.61597832e+00  1.19803416e+00  2.29603280e+00 -7.04869634e-01\n",
      " -1.60100907e+00  2.18328865e+00 -2.44414662e+00  4.16565262e+00\n",
      "  4.18489380e+00 -1.69588563e+00  3.41513085e+00  3.64843291e+00\n",
      "  2.39465145e+00  3.07190280e+00 -1.31378726e+00  7.28378515e+00\n",
      "  5.58698461e-01  2.55831567e+00 -1.26271367e+00  1.29789435e+00\n",
      " -2.87179079e-01 -1.73928411e-02  4.92337959e+00  2.13041595e+00\n",
      "  1.48470148e+00 -2.07737828e+00 -6.02535373e-01  1.87905776e+00\n",
      "  1.53159888e-01 -2.09045665e-01 -4.49944669e+00  9.22444588e-01\n",
      "  5.94803150e+00  2.97374745e-01 -2.45364183e+00  3.37704287e+00\n",
      "  1.45954870e+00  6.09400100e+00  5.25855971e-01 -2.56128196e+00\n",
      "  1.95541102e-01  5.43703424e+00 -2.51321595e+00 -2.58618432e-01\n",
      "  1.51839495e+00  4.56604702e-01  8.42250875e-01 -1.25988102e+00\n",
      " -4.18893547e+00  1.01974618e+00  2.00060246e+00 -1.04965079e-01\n",
      " -1.97141218e-01  9.66387561e-01  2.40597992e+00  7.38234494e-01\n",
      " -2.88429877e+00  5.27082735e-01  1.05629472e+01  4.63397933e+00\n",
      "  2.98829823e+00 -6.50441465e+00  2.59110635e+00  3.47054640e+00\n",
      "  5.07950857e+00  6.29815077e-01  2.17959416e+00 -2.50479707e+00\n",
      "  6.27901890e+00  1.48687053e+00 -2.57243858e+00 -6.99973122e-02\n",
      " -7.16960036e-01  1.74345535e+00  1.19119557e+00 -8.87983245e-01\n",
      "  3.75665471e+00 -5.77244931e+00  2.21615378e+00  1.16901328e-01\n",
      "  4.39707501e-01  4.43312801e+00  2.84613358e+00  3.64381368e+00\n",
      " -1.16292702e+00 -6.94340835e-01  8.91668524e-01  4.28896184e+00\n",
      " -2.53697597e-01  3.08469360e+00 -1.69746253e+00  8.15762283e+00\n",
      " -6.95512770e+00  5.14726808e+00 -1.94987781e+00 -1.14800675e+00\n",
      "  3.14087882e+00 -3.18002007e+00  3.04854074e+00 -5.28391396e+00\n",
      "  5.13589292e+00  5.19104521e-01  1.94478957e+00  5.49062180e+00\n",
      "  2.59222101e+00  2.77350200e+00  2.05080209e+00  7.73884026e-01\n",
      "  2.04754060e+00  5.09890716e+00  6.43390219e+00  2.09550278e+00\n",
      "  2.82425944e+00 -5.45400416e-01  1.13624595e+00 -1.51777538e+00\n",
      " -2.03485254e+00  2.05071817e+00 -1.17998201e+00 -2.29929566e-01\n",
      "  1.50727411e+00 -4.71746514e+00  4.25803444e-01  9.13337985e+00\n",
      " -7.37798880e-01 -2.29324293e+00 -2.86412569e+00 -2.63914532e+00\n",
      "  1.16271956e-01 -2.20846272e+00  4.98137092e+00  2.91548304e+00\n",
      " -3.28044445e+00  5.14372681e+00  2.08871057e+00  3.16014088e+00\n",
      " -6.57881413e+00  2.99633375e+00  2.80887720e+00  1.54482565e+00\n",
      "  1.06490362e+00  5.55131833e+00  1.38188031e+00 -1.00526557e+00\n",
      "  8.81328553e-02  2.47784307e+00  3.61491522e+00 -9.47063329e-01\n",
      " -3.83250113e-01 -1.46594058e+00  1.03973180e+01  6.55396822e-01\n",
      " -5.87698851e+00  1.20387412e+00 -2.20052992e+00  2.58073051e+00\n",
      " -4.48297988e-02  1.41114339e+00  8.35044692e+00  5.32830153e+00\n",
      " -1.42653749e+00 -4.01775256e+00 -6.18243075e+00  1.56796819e+00\n",
      "  1.07999855e+01 -5.54149023e-01 -1.65142838e+00  5.10284112e+00\n",
      "  1.13948844e+01 -3.46712791e+00  2.84916832e+00  8.80260705e-01\n",
      "  4.39753984e+00 -6.93967936e-01  1.13025071e+00 -1.01801080e+00\n",
      " -4.47374333e+00  1.00326755e+00 -2.53413902e+00 -1.07574084e-01\n",
      "  5.61562673e+00  8.10183579e+00  1.64970254e+00  2.30596410e+00\n",
      " -2.68667814e+00 -1.20095693e-01 -4.62638422e+00  3.20169550e-01\n",
      "  2.47713939e+00  3.74327064e+00 -1.28335219e+00 -4.03009431e+00\n",
      " -3.54667775e+00  1.59537868e+00 -2.76854884e+00  1.28505187e+00\n",
      " -4.33072506e-01 -2.70239385e-01  6.54752155e-01  2.59642619e+00\n",
      "  4.71242670e+00  3.78962317e+00  3.57691439e+00 -1.24697935e+00\n",
      "  9.17652332e+00 -8.02057995e-01  2.56020555e+00 -1.18102202e+00\n",
      " -1.93804121e+00 -1.49172790e+00  9.78088580e-01  2.16898699e+00\n",
      "  3.20907346e+00 -2.98864423e+00 -1.22820355e+00  2.62087582e+00\n",
      "  2.12910529e+00  1.94202256e+00  3.41675303e+00  8.83798343e-01\n",
      "  2.92701286e+00  7.85276552e+00 -6.84349785e+00 -6.58727914e+00\n",
      " -2.93852527e+00  7.27088105e-02  4.29900740e+00  2.26339557e+00\n",
      "  5.16012824e+00  2.86640789e+00 -1.72210150e+00  2.65727476e+00\n",
      "  2.09894879e+00 -1.42687076e+00  4.70039718e-01  3.54835198e-01\n",
      "  1.88193461e+00  1.49657122e+00  5.58807362e+00  4.20009991e+00\n",
      "  1.08430427e+01  6.53425419e+00  5.16876592e+00 -5.33452256e+00\n",
      " -5.00151383e-01  4.62920529e-01 -4.91159467e-01 -1.58406115e+00\n",
      " -1.28235268e+00  4.53193723e+00  5.18329232e+00  3.31258106e+00\n",
      "  5.97269588e+00  1.63018019e+00  5.23462734e+00  1.44321103e+00\n",
      "  7.37202455e-01  3.60034617e+00 -4.22175007e-01 -4.39795726e+00\n",
      " -5.61881478e-01  1.81178231e+00  7.38402931e+00  5.69457717e-02\n",
      "  3.06800068e+00  5.73719726e+00 -8.21244529e-01  6.72431342e+00\n",
      " -1.45624423e+00 -1.63417627e+00 -2.98636468e-03  7.24352190e+00\n",
      " -3.57729543e+00 -5.60391039e+00  1.60438470e+00  4.36722898e+00\n",
      "  5.85753396e+00 -2.05827617e+00 -2.41728449e+00  2.07922735e+00\n",
      " -9.98983288e-01 -4.40449394e+00 -2.06613029e+00  3.61072025e+00\n",
      " -1.64653004e+00  5.53355030e-01  4.16483292e+00  1.64798836e+00\n",
      "  2.43642193e+00  2.49492143e+00  9.61040525e-01  2.82420871e+00\n",
      " -3.45664869e+00 -3.13787514e+00  5.15133104e+00 -5.28826275e+00\n",
      "  5.04225714e-01  1.63422961e-01  3.77240198e+00 -1.96196124e+00\n",
      " -1.70646321e+00 -2.67529257e+00 -1.93211739e+00  4.39496173e-01\n",
      "  3.99413466e+00 -2.02414518e+00 -2.96211998e-01  2.03502519e+00\n",
      "  2.55207506e+00  9.59683577e-01  3.92217373e-01  1.72360848e+00\n",
      "  1.98518672e+00 -3.06016647e+00  4.72849483e+00  5.67576907e+00\n",
      "  6.93353560e-01 -1.71347477e-01  2.56950770e+00 -1.03937311e+00\n",
      "  1.21075906e+00 -5.17532596e+00  1.78843818e+00  6.71416042e+00\n",
      " -9.25222766e-01  1.09381984e+00  3.17972753e+00  3.82744276e+00\n",
      "  1.02303373e+01 -3.63828686e-01  2.29932730e+00  3.64972467e+00\n",
      "  2.05976612e+00  1.33161448e+00 -3.06780314e+00 -1.92459682e+00\n",
      "  3.51465215e+00 -3.11294404e+00  1.66953356e+01  2.92971029e+00\n",
      "  6.35770092e+00  7.00237151e+00  9.99136080e-02  1.99294491e+00\n",
      "  1.71636515e+00  5.00710688e+00 -2.04692442e+00 -3.67451969e+00\n",
      " -2.47922993e+00 -1.91746138e+00 -1.34819735e+00  1.35908467e+00\n",
      " -1.41767227e+00  1.52618579e+00  3.21547929e+00 -6.00028453e-01\n",
      "  3.50942691e+00  2.03249202e+00  1.44707001e+00  4.51859097e-01\n",
      " -3.66609295e+00 -8.61165224e-01 -2.66217766e+00 -4.02581048e+00\n",
      "  5.02179029e-01 -1.57228190e+00  1.24557339e+00  5.42293828e+00\n",
      " -1.47727587e+00  1.33177225e+00 -2.22101244e+00  8.35012508e+00\n",
      "  8.41984949e+00 -1.84312646e+00  2.91669640e+00  7.23691361e+00\n",
      " -2.65904037e+00  1.15937099e+00  5.50971914e+00  5.14008429e+00\n",
      "  2.42376588e+00 -4.36131245e+00 -3.88090181e+00  4.09512179e+00\n",
      " -4.66410916e+00  3.61030740e+00  1.79778568e+00  3.19010419e+00\n",
      " -1.29121239e+00  1.59398828e+00 -2.97463590e+00 -1.69628492e+00\n",
      " -6.40864935e+00 -1.10332216e+00  2.18062300e+00  1.15110690e-01\n",
      "  5.07072809e+00 -2.92691778e-01 -2.43312294e+00 -4.19312153e+00\n",
      " -4.16478673e-01 -3.98414254e+00  7.54415594e-01  1.47152538e+00\n",
      "  2.20855565e+00 -1.44010177e+00 -2.93261457e+00 -3.08292079e-01\n",
      "  2.47983166e+00  5.09571123e+00 -2.44454132e+00  2.31462106e+00\n",
      " -1.53284482e+00  2.08420627e+00  2.57546182e+00 -2.21676333e-01\n",
      " -1.31194818e+00  1.74563312e+00  4.40550443e+00 -9.03195100e-01\n",
      " -3.73005036e+00  1.02044473e+01  2.16671590e+00  5.85872304e-01\n",
      "  3.21506119e+00  6.09949365e+00 -3.24896219e+00 -1.72192454e+00\n",
      "  1.78433663e+00 -3.60344749e+00 -4.16717911e+00  3.98471138e+00\n",
      "  5.37784413e-01  2.72419660e+00 -3.23101455e+00  4.37535245e+00\n",
      "  5.88700411e-01  1.91402048e+00  3.07261096e+00  3.84366868e+00\n",
      "  1.06470898e+00  3.41304084e+00 -8.38919856e-02  3.22834941e+00\n",
      "  5.40856611e+00  4.51508323e+00 -3.96752091e+00 -3.75786584e+00\n",
      "  4.06084713e+00 -1.50409806e+00  3.97082734e+00  3.77931194e-01\n",
      "  7.96882187e+00  6.79349967e+00  3.11074845e+00 -3.19264324e+00\n",
      " -2.45963857e+00 -5.42429241e-01  3.25747530e+00 -4.23219216e+00\n",
      "  2.98185730e+00  2.39229512e-01  4.48821785e+00  4.04392929e+00\n",
      "  1.11649257e+01 -1.59106649e+00 -1.45356836e+00 -3.02666160e-01\n",
      "  6.48973599e+00  3.65382468e+00  2.58411047e+00  2.06150020e+00\n",
      "  2.80491743e+00  3.61088119e+00 -3.33066000e+00  1.52417448e+00\n",
      "  5.55697251e+00  3.30305318e+00 -1.05636313e+01  7.91065581e-01\n",
      "  1.95853784e+00  1.11206112e+00  2.15402878e+00 -2.56132509e+00\n",
      "  2.19424284e+00 -5.11217328e-01  8.05419069e-01 -7.05056767e+00\n",
      "  2.24733647e-01  1.90706423e+00  5.86362805e-01 -2.53363432e+00\n",
      "  5.31506623e+00 -9.93139738e+00  1.04042983e+00 -2.49426079e+00\n",
      " -1.81049137e+00  2.10491896e+00 -1.01673076e+00  2.48380062e+00\n",
      " -7.72357751e-01  2.01685450e+00  1.70283338e+00 -2.22512858e+00\n",
      "  1.76349843e+00  3.04932080e+00  7.25539200e-01 -3.91403160e+00\n",
      "  4.23749429e-01  6.13980310e-01 -1.00402441e+00 -3.63129215e+00\n",
      " -1.91816948e+00  2.25029048e+00 -1.24151739e+00  5.74344141e+00\n",
      "  6.77101080e-01 -3.39458039e+00 -2.32960729e+00  5.43808177e+00\n",
      "  3.83493453e-01  3.38306788e+00  1.55866034e+00 -8.74281096e-01]\n"
     ]
    }
   ],
   "source": [
    "a=random.logistic(loc=1,scale=2,size=1000)\n",
    "print(a)"
   ]
  },
  {
   "cell_type": "code",
   "execution_count": 24,
   "id": "72e71d72",
   "metadata": {},
   "outputs": [
    {
     "name": "stderr",
     "output_type": "stream",
     "text": [
      "C:\\Users\\ACER\\AppData\\Local\\Temp\\ipykernel_16844\\1163589992.py:1: UserWarning: \n",
      "\n",
      "`distplot` is a deprecated function and will be removed in seaborn v0.14.0.\n",
      "\n",
      "Please adapt your code to use either `displot` (a figure-level function with\n",
      "similar flexibility) or `kdeplot` (an axes-level function for kernel density plots).\n",
      "\n",
      "For a guide to updating your code to use the new functions, please see\n",
      "https://gist.github.com/mwaskom/de44147ed2974457ad6372750bbe5751\n",
      "\n",
      "  sb.distplot(a,hist=False)\n"
     ]
    },
    {
     "data": {
      "image/png": "[encoded data removed]",
      "text/plain": [
       "<Figure size 640x480 with 1 Axes>"
      ]
     },
     "metadata": {},
     "output_type": "display_data"
    }
   ],
   "source": [
    "sb.distplot(a,hist=False)\n",
    "plt.show()"
   ]
  },
  {
   "cell_type": "code",
   "execution_count": 28,
   "id": "e95b9984",
   "metadata": {},
   "outputs": [
    {
     "name": "stderr",
     "output_type": "stream",
     "text": [
      "C:\\Users\\ACER\\AppData\\Local\\Temp\\ipykernel_16844\\3362395989.py:3: UserWarning: \n",
      "\n",
      "`distplot` is a deprecated function and will be removed in seaborn v0.14.0.\n",
      "\n",
      "Please adapt your code to use either `displot` (a figure-level function with\n",
      "similar flexibility) or `kdeplot` (an axes-level function for kernel density plots).\n",
      "\n",
      "For a guide to updating your code to use the new functions, please see\n",
      "https://gist.github.com/mwaskom/de44147ed2974457ad6372750bbe5751\n",
      "\n",
      "  sb.distplot(a,hist=False,label='Logistic',color='red')\n",
      "C:\\Users\\ACER\\AppData\\Local\\Temp\\ipykernel_16844\\3362395989.py:4: UserWarning: \n",
      "\n",
      "`distplot` is a deprecated function and will be removed in seaborn v0.14.0.\n",
      "\n",
      "Please adapt your code to use either `displot` (a figure-level function with\n",
      "similar flexibility) or `kdeplot` (an axes-level function for kernel density plots).\n",
      "\n",
      "For a guide to updating your code to use the new functions, please see\n",
      "https://gist.github.com/mwaskom/de44147ed2974457ad6372750bbe5751\n",
      "\n",
      "  sb.distplot(b,hist=False,label='Normal',color='green')\n"
     ]
    },
    {
     "data": {
      "text/plain": [
       "<Axes: ylabel='Density'>"
      ]
     },
     "execution_count": 28,
     "metadata": {},
     "output_type": "execute_result"
    },
    {
     "data": {
      "image/png": "[encoded data removed]",
      "text/plain": [
       "<Figure size 640x480 with 1 Axes>"
      ]
     },
     "metadata": {},
     "output_type": "display_data"
    }
   ],
   "source": [
    "a=random.logistic(loc=1,scale=2,size=1000)\n",
    "b=random.normal(loc=1,scale=2,size=1000)\n",
    "sb.distplot(a,hist=False,label='Logistic',color='red')\n",
    "sb.distplot(b,hist=False,label='Normal',color='green')"
   ]
  },
  {
   "cell_type": "markdown",
   "id": "37ec3bf5",
   "metadata": {},
   "source": [
    "# Multinomial distribution\n",
    "\n",
    "* It is also known as polynomial distribution\n",
    "* Ex:Rolling a dice\n",
    "* It has 3 parameters 1.n-No of outcomes 2.pvals-List of probabilities 3.shape of the array(Size)"
   ]
  },
  {
   "cell_type": "code",
   "execution_count": 30,
   "id": "f17fe703",
   "metadata": {},
   "outputs": [
    {
     "name": "stdout",
     "output_type": "stream",
     "text": [
      "[0 1 2 2 0 1]\n"
     ]
    }
   ],
   "source": [
    "a=random.multinomial(n=6,pvals=[1/6,1/6,1/6,1/6,1/6,1/6])\n",
    "print(a)"
   ]
  },
  {
   "cell_type": "code",
   "execution_count": 34,
   "id": "42b7db30",
   "metadata": {},
   "outputs": [
    {
     "name": "stderr",
     "output_type": "stream",
     "text": [
      "C:\\Users\\ACER\\AppData\\Local\\Temp\\ipykernel_16844\\1885542346.py:1: UserWarning: \n",
      "\n",
      "`distplot` is a deprecated function and will be removed in seaborn v0.14.0.\n",
      "\n",
      "Please adapt your code to use either `displot` (a figure-level function with\n",
      "similar flexibility) or `histplot` (an axes-level function for histograms).\n",
      "\n",
      "For a guide to updating your code to use the new functions, please see\n",
      "https://gist.github.com/mwaskom/de44147ed2974457ad6372750bbe5751\n",
      "\n",
      "  sb.distplot(a)\n"
     ]
    },
    {
     "data": {
      "image/png": "[encoded data removed]",
      "text/plain": [
       "<Figure size 640x480 with 1 Axes>"
      ]
     },
     "metadata": {},
     "output_type": "display_data"
    }
   ],
   "source": [
    "sb.distplot(a)\n",
    "plt.show()"
   ]
  },
  {
   "cell_type": "markdown",
   "id": "112b5318",
   "metadata": {},
   "source": [
    "# Exponential distribution\n",
    "\n",
    "* Time till next event\n",
    "* It has two parameters \n",
    "* 1. Inverse of rate of occurence(default=1)\n",
    "* 2. Size"
   ]
  },
  {
   "cell_type": "code",
   "execution_count": 35,
   "id": "0b012a57",
   "metadata": {},
   "outputs": [
    {
     "name": "stderr",
     "output_type": "stream",
     "text": [
      "C:\\Users\\ACER\\AppData\\Local\\Temp\\ipykernel_16844\\3058262983.py:2: UserWarning: \n",
      "\n",
      "`distplot` is a deprecated function and will be removed in seaborn v0.14.0.\n",
      "\n",
      "Please adapt your code to use either `displot` (a figure-level function with\n",
      "similar flexibility) or `kdeplot` (an axes-level function for kernel density plots).\n",
      "\n",
      "For a guide to updating your code to use the new functions, please see\n",
      "https://gist.github.com/mwaskom/de44147ed2974457ad6372750bbe5751\n",
      "\n",
      "  sb.distplot(a,hist=False)\n"
     ]
    },
    {
     "data": {
      "image/png": "[encoded data removed]",
      "text/plain": [
       "<Figure size 640x480 with 1 Axes>"
      ]
     },
     "metadata": {},
     "output_type": "display_data"
    }
   ],
   "source": [
    "a=random.exponential(size=1000)\n",
    "sb.distplot(a,hist=False)\n",
    "plt.show()"
   ]
  },
  {
   "cell_type": "markdown",
   "id": "1e3de0f7",
   "metadata": {},
   "source": [
    "# Chi square distribution\n",
    "\n",
    "* To verify hypothesis\n",
    "* It has 2 arguments 1.df(Degree of freedom) 2.shape of the array(size)"
   ]
  },
  {
   "cell_type": "code",
   "execution_count": 36,
   "id": "f97641a9",
   "metadata": {},
   "outputs": [
    {
     "data": {
      "text/plain": [
       "array([1.86538918e-01, 2.05887243e-02, 1.64504955e+00, 5.68327020e-01,\n",
       "       4.28080558e-01, 6.75127892e-01, 4.52848470e-02, 5.07756728e-02,\n",
       "       3.71485811e-01, 2.62802957e+00, 3.35561371e-03, 2.17095939e-01,\n",
       "       9.73917688e-04, 1.32688972e+00, 3.88169310e-01, 3.29224193e-02,\n",
       "       8.64397901e-01, 1.97096556e-01, 2.19033942e+00, 6.11157179e-01,\n",
       "       2.39332002e+00, 2.67070866e+00, 4.89536115e-01, 1.93675184e-02,\n",
       "       1.11859158e+00, 4.12177315e+00, 3.16661743e+00, 5.52716294e-03,\n",
       "       5.56600421e-02, 1.39406293e-02, 5.35235896e-02, 1.24394561e+00,\n",
       "       1.64202312e+00, 1.68518969e+00, 2.76933565e-03, 5.46109635e-02,\n",
       "       1.58427406e-01, 2.66000911e-01, 4.73686106e-02, 1.94366492e-02,\n",
       "       1.79627762e+00, 8.65028215e-01, 6.65424406e-01, 2.41718769e+00,\n",
       "       9.41752588e-01, 1.28433131e+00, 1.78328570e+00, 1.46118410e+00,\n",
       "       3.25005219e-01, 2.29871190e-01, 1.92010748e-01, 3.21981892e+00,\n",
       "       1.61622982e+00, 3.50605693e-02, 3.14738304e-01, 2.54154178e-03,\n",
       "       1.76070770e-02, 1.84157716e-03, 9.40649163e-04, 3.24976412e+00,\n",
       "       2.39029117e+00, 7.14841847e-01, 2.02432488e+00, 7.89941176e-02,\n",
       "       1.10016395e+00, 1.54263179e+00, 2.46220447e+00, 3.82829824e-02,\n",
       "       9.42707532e-01, 8.34144133e-01, 1.17324244e+00, 5.18019208e-01,\n",
       "       1.66844867e-02, 2.76268017e+00, 3.20526290e+00, 2.41372108e+00,\n",
       "       8.74604411e-01, 3.46595482e-01, 1.33562012e-01, 1.03687663e-01,\n",
       "       4.30869459e-01, 3.30974437e-03, 5.64310385e-01, 1.98447357e-01,\n",
       "       8.64403408e-01, 1.45835480e+00, 1.66124918e+00, 2.62741591e-01,\n",
       "       2.75629527e-01, 5.44404511e-03, 7.45862225e-02, 5.16442754e-02,\n",
       "       9.73501007e-02, 7.82125539e-02, 4.00143725e-02, 1.27626187e-01,\n",
       "       1.03694725e+00, 6.93335353e-02, 6.02297184e-02, 3.97783421e-03,\n",
       "       1.07181375e+00, 2.29488510e+00, 5.73263292e+00, 1.41844869e+00,\n",
       "       1.69901874e+00, 6.90530076e+00, 6.32950613e-01, 7.38911112e-01,\n",
       "       4.99256661e-03, 2.05373203e-01, 2.28275329e-01, 1.48115993e+00,\n",
       "       1.69187858e-01, 1.82089362e+00, 6.31258431e-01, 1.33186862e+00,\n",
       "       8.98283771e-02, 5.91890139e+00, 6.67050957e-01, 8.00851047e-02,\n",
       "       1.38668237e-01, 1.02479166e+00, 1.66329157e+00, 1.26214997e+00,\n",
       "       9.87371518e-01, 5.31017584e+00, 8.52692226e-01, 1.00953241e+00,\n",
       "       5.50678933e-02, 3.04325305e-02, 2.00936492e-02, 3.33195351e+00,\n",
       "       5.27958700e-01, 2.12812989e-01, 5.99854060e-01, 9.25907814e-02,\n",
       "       2.86676446e-01, 1.27000965e+00, 6.11806648e-01, 1.83589583e-01,\n",
       "       1.16377790e-01, 2.34029075e-02, 6.19079244e-01, 1.15787781e-01,\n",
       "       2.38880905e+00, 4.37382428e-01, 7.54906137e-01, 3.87054514e-01,\n",
       "       3.89863268e-01, 3.09814160e-01, 1.10100058e+00, 1.92912629e+00,\n",
       "       1.99326233e-02, 1.38103424e-01, 3.75167880e-03, 1.36577355e-01,\n",
       "       3.69469886e-01, 5.91110689e-01, 5.76234202e-01, 1.36750117e-01,\n",
       "       1.11599480e+00, 1.77775996e+00, 2.17347015e+00, 5.92173118e-01,\n",
       "       8.35192412e-01, 1.72330353e-01, 1.13376061e-01, 1.83815842e-01,\n",
       "       2.91248254e-01, 4.79327231e+00, 1.87402299e+00, 4.84322192e-01,\n",
       "       2.45889114e-01, 8.00197318e-02, 4.50921132e-01, 4.22950382e-01,\n",
       "       6.46536467e-01, 8.17730394e-01, 3.03500864e-01, 5.87818898e-03,\n",
       "       1.79357927e-01, 4.36320735e-01, 7.95383988e-02, 2.48131834e+00,\n",
       "       4.82455149e-01, 3.51944195e+00, 2.85999028e-02, 1.88445376e+00,\n",
       "       3.14962410e-01, 1.58778025e-02, 2.03557469e-01, 6.68508184e-01,\n",
       "       2.21313296e+00, 6.38890512e-04, 1.91892730e+00, 8.72318983e-03,\n",
       "       6.55532482e+00, 6.64847089e-01, 3.67644228e-01, 5.52121851e-04,\n",
       "       4.63153049e-02, 1.04542667e+00, 6.39635819e-01, 2.29809587e-01,\n",
       "       1.44163492e-01, 1.05635854e+00, 5.53524834e-02, 6.68569597e-02,\n",
       "       1.17691816e+00, 2.80347092e+00, 1.22479306e+00, 2.22821995e-01,\n",
       "       1.44479282e+00, 4.41890967e-02, 2.69591397e-01, 6.43092929e-03,\n",
       "       1.10463022e-01, 1.23868788e+00, 1.07867506e-02, 3.91986189e+00,\n",
       "       6.01343071e+00, 9.82526847e-02, 5.93207758e-02, 2.67831669e+00,\n",
       "       4.40451939e-01, 3.84565505e+00, 7.76649467e-01, 1.15516932e+00,\n",
       "       2.93001788e-02, 1.25187452e+00, 5.55949834e-01, 2.48806625e-01,\n",
       "       1.56539270e-02, 1.76713110e-01, 9.21876553e-02, 2.96405292e+00,\n",
       "       2.80635152e-01, 1.06129264e-01, 8.13955825e-01, 7.58152264e-03,\n",
       "       2.45410965e-02, 1.18452736e+00, 9.20667818e-01, 4.40831228e-01,\n",
       "       2.29620576e-01, 3.01937888e-01, 1.39774145e+00, 1.74896645e-01,\n",
       "       1.94466602e-01, 5.03923041e-03, 1.42560891e+00, 6.11742205e-03,\n",
       "       3.35190410e+00, 3.98909521e-01, 3.45804435e-01, 1.39902622e+00,\n",
       "       1.37684092e+00, 9.24234603e-03, 1.72932983e-01, 3.21064468e-01,\n",
       "       1.79357575e-01, 3.93530918e-01, 1.95527470e+00, 2.46546491e-01,\n",
       "       7.19900489e+00, 3.64973719e-02, 9.23660163e-01, 6.82770682e-02,\n",
       "       1.79767348e-01, 8.16284585e-02, 2.97160204e-01, 2.03609894e-02,\n",
       "       6.63049323e-01, 5.29545793e+00, 1.68739330e+00, 1.09287745e+00,\n",
       "       1.03407355e+00, 1.71604615e-01, 3.93338925e-02, 6.20081236e-03,\n",
       "       7.20932236e-01, 1.00320163e+00, 6.39028878e-01, 8.03248806e-01,\n",
       "       2.29209203e-01, 9.52332354e-01, 2.61979771e-01, 5.33034056e-05,\n",
       "       1.05702560e+00, 1.98215746e+00, 3.83817164e+00, 1.06142971e-01,\n",
       "       9.72246742e-01, 3.57423396e-02, 5.96067890e+00, 9.05561862e-02,\n",
       "       2.71440629e+00, 7.30860934e-02, 7.24950926e-02, 1.38262153e+00,\n",
       "       5.03400870e-01, 3.09388531e-02, 8.61093364e-01, 1.28262824e+00,\n",
       "       2.01583670e+00, 1.18904642e-03, 5.41320525e+00, 2.73299472e-01,\n",
       "       1.10579471e-02, 1.13459807e+00, 3.10794703e+00, 1.05243901e+00,\n",
       "       1.87916958e+00, 1.56140546e-01, 7.20454235e-02, 2.33612423e-01,\n",
       "       2.68237628e+00, 2.02921705e-02, 1.29879579e-01, 4.27048473e-01,\n",
       "       3.47383208e-01, 3.61251113e-02, 5.84048700e-02, 2.74171549e-01,\n",
       "       1.61467393e-01, 2.70794101e+00, 5.86564839e-01, 2.58789943e-01,\n",
       "       4.97010809e-01, 1.94212853e+00, 6.05704038e-01, 4.80783699e-01,\n",
       "       3.47930006e-01, 7.04669723e-01, 1.65641679e+00, 6.46245267e-01,\n",
       "       5.58016942e-02, 1.03208207e+00, 3.32498804e+00, 2.49452998e-01,\n",
       "       3.10216832e-01, 6.81279776e-02, 6.21059220e-02, 5.89216387e-02,\n",
       "       8.21660804e-05, 4.20680791e+00, 2.24971422e-02, 3.34377456e-01,\n",
       "       1.01711546e+00, 1.67004778e-01, 1.31646506e-02, 1.75567063e-01,\n",
       "       1.95960266e-01, 3.10822354e-01, 7.27306775e-02, 3.46409979e-01,\n",
       "       1.32750843e-01, 2.26655525e-02, 1.24884713e-01, 9.42607311e-01,\n",
       "       2.11346390e+00, 6.20892224e-03, 4.66754087e-02, 1.85232783e-02,\n",
       "       8.40737224e-01, 5.34681339e+00, 1.22274826e+00, 9.16586399e-01,\n",
       "       8.91033530e+00, 1.24744849e-01, 3.77285838e-01, 4.63201094e-01,\n",
       "       3.31200781e-02, 2.26483871e-01, 2.84789576e+00, 1.12908157e-02,\n",
       "       4.02295958e-01, 4.39812299e+00, 2.25209324e-02, 2.47797620e-02,\n",
       "       1.38157293e+00, 2.21342374e-02, 4.89554347e-01, 7.63712838e-02,\n",
       "       6.82695617e-01, 3.82488229e-01, 1.17471536e+00, 4.49585551e-02,\n",
       "       1.00263513e+00, 2.73019363e+00, 2.23770739e-01, 5.68257733e-01,\n",
       "       1.45178475e-02, 1.65710800e+00, 1.83487319e-01, 1.79256433e+00,\n",
       "       1.13031280e+00, 2.23969630e+00, 2.83892618e-01, 1.61440101e+00,\n",
       "       1.05213707e+00, 3.42732518e-01, 1.45485103e+00, 2.81785730e+00,\n",
       "       1.41924296e-02, 1.28974286e-01, 1.03451423e+00, 1.22947917e-02,\n",
       "       4.74005465e-01, 5.46995751e+00, 1.63995873e+00, 8.28831865e-01,\n",
       "       4.48437522e-01, 3.46635084e-01, 2.12504407e-02, 5.09834304e-01,\n",
       "       7.93094820e+00, 1.03011785e+00, 1.20093280e-02, 2.56350433e-01,\n",
       "       1.32265303e-02, 2.12102680e-04, 2.26636092e-02, 5.83519197e-01,\n",
       "       5.06076812e-01, 4.44462406e-01, 5.16292159e-01, 3.33240904e-01,\n",
       "       6.60125517e-02, 5.85073267e+00, 5.42937342e-02, 4.69478070e+00,\n",
       "       1.11651932e-01, 4.94237740e-02, 6.05882728e-01, 1.86032314e-02,\n",
       "       1.64056745e+00, 1.28432198e-02, 2.17480466e+00, 7.24671325e-03,\n",
       "       3.45699317e-01, 9.86253934e-01, 1.51239533e+00, 5.62734171e-02,\n",
       "       4.60959265e-01, 4.31168393e+00, 5.96016859e-01, 3.18739473e-01,\n",
       "       4.49743034e-01, 2.22799416e+00, 7.90761812e-03, 4.23927705e-01,\n",
       "       1.36451540e+00, 1.04173338e-03, 1.45927146e-01, 6.18504209e-01,\n",
       "       1.98992382e+00, 2.01841056e-01, 1.05264685e+00, 7.62650148e-01,\n",
       "       1.59805045e-02, 2.35953224e-01, 1.03086358e-01, 1.39821653e+00,\n",
       "       1.18449164e+00, 2.69419386e+00, 2.68561677e-02, 3.58903742e-01,\n",
       "       1.94156500e+00, 1.20258343e+00, 1.31410939e+00, 1.41103720e-03,\n",
       "       4.04252858e-02, 5.10043251e-01, 5.24610144e+00, 2.38385569e-01,\n",
       "       4.41183837e-01, 3.62005810e-03, 2.40718428e-01, 3.20590052e-01,\n",
       "       7.96463557e-01, 6.56940649e-01, 1.13547059e-05, 1.11279968e+00,\n",
       "       1.24653015e-02, 5.49434449e-01, 2.49039095e-01, 1.53264856e+00,\n",
       "       2.78015257e+00, 1.65398113e+00, 5.14473427e+00, 4.60073980e-02,\n",
       "       7.57877742e-02, 1.45040494e-01, 8.79512829e-01, 7.74639796e-03,\n",
       "       4.26863081e-01, 2.66138964e-01, 3.28271705e+00, 1.25512984e-01,\n",
       "       5.46672424e-02, 1.80508694e+00, 1.06073107e-02, 2.21089568e+00,\n",
       "       5.74580448e-01, 1.14658966e+00, 5.21160955e-02, 2.11142505e-03,\n",
       "       8.29314429e-01, 1.45529570e-01, 6.98701020e-03, 1.42736480e-01,\n",
       "       6.40697817e-01, 1.17359832e-01, 1.78222546e+00, 5.75310360e-01,\n",
       "       4.51288027e-03, 2.34549970e+00, 1.10975434e+00, 7.67128459e-01,\n",
       "       3.35227506e-01, 1.26243378e+00, 3.02697379e-01, 1.06918249e+00,\n",
       "       5.52367384e-02, 1.63392501e+00, 1.73370322e-01, 1.11916875e+00,\n",
       "       2.55075097e+00, 7.16002267e-01, 2.14700818e+00, 3.33611545e-01,\n",
       "       1.83042662e-01, 1.29746448e+00, 4.56464108e-02, 4.03262977e-01,\n",
       "       1.63424660e-01, 1.58823364e+00, 1.23205896e-02, 1.32719415e-01,\n",
       "       3.17878359e-01, 5.29323455e-01, 7.97070455e-01, 1.62324555e+00,\n",
       "       1.34263390e+00, 1.03667207e+00, 3.37297264e+00, 1.02221328e-01,\n",
       "       2.79547757e-01, 3.72170166e-01, 5.09437206e-03, 1.19504173e+00,\n",
       "       9.34306538e-01, 3.93259052e-02, 4.78905964e-01, 1.01511843e-04,\n",
       "       1.09144998e+00, 5.66892108e-01, 1.84308597e+00, 1.11495908e+00,\n",
       "       1.96693281e-03, 7.02851507e-02, 9.45443680e-02, 5.66809408e+00,\n",
       "       2.99192782e+00, 2.13751716e+00, 1.07842565e+00, 1.01755625e-01,\n",
       "       1.32728146e+00, 6.76976501e+00, 6.04800322e-04, 8.39933618e-01,\n",
       "       1.92496730e+00, 2.14925085e+00, 2.91235219e-02, 6.90287206e-02,\n",
       "       4.77600948e+00, 7.02065146e-01, 2.00472248e-01, 9.45278632e-01,\n",
       "       2.95593178e-02, 2.46565229e-01, 6.72184199e+00, 7.39527300e-04,\n",
       "       2.03945865e+00, 1.24334559e+00, 2.86733321e-02, 4.81750554e-01,\n",
       "       3.34212017e-01, 1.98133235e-01, 9.03663796e-01, 3.40090466e-02,\n",
       "       1.56408826e+00, 7.99780952e-02, 1.18223580e+00, 9.16677793e-01,\n",
       "       2.55774389e-01, 6.51632909e-03, 1.24313266e-01, 5.64727124e-01,\n",
       "       3.07778723e+00, 4.31190637e-01, 1.61891928e+00, 4.46568860e-01,\n",
       "       5.22202415e-01, 3.07593166e-01, 4.68237219e-02, 1.19190887e+00,\n",
       "       1.95312985e-02, 3.11579776e+00, 8.17884934e-02, 1.95933928e-02,\n",
       "       1.75316445e+00, 1.01343881e+00, 2.68827058e-01, 5.94006816e-01,\n",
       "       5.61191960e-02, 8.21237222e-02, 3.52908950e-02, 2.01146821e+00,\n",
       "       5.99328520e-01, 5.56020945e-01, 6.24381786e-02, 1.92417150e-01,\n",
       "       7.29559309e-01, 2.91859013e-01, 2.24969944e+00, 6.53724148e-01,\n",
       "       3.07478832e+00, 5.31001511e-01, 2.90520712e-02, 8.59099569e-01,\n",
       "       1.64769860e-01, 1.53369911e+00, 1.09540739e+00, 2.64902812e+00,\n",
       "       4.62159475e+00, 5.86290978e-01, 3.02435741e+00, 5.16174710e-01,\n",
       "       4.08663771e-01, 9.73231387e-01, 8.47832044e-01, 2.96733330e+00,\n",
       "       7.35920338e-02, 1.28648843e-01, 1.66182838e+00, 1.92773104e+00,\n",
       "       5.36682212e-02, 7.06038943e-01, 1.22648100e-01, 2.74335041e-02,\n",
       "       4.42618211e+00, 3.78933360e-01, 8.57788356e-01, 7.42355165e-06,\n",
       "       1.21527373e+00, 9.38652966e-02, 2.26590352e-02, 7.15892895e-02,\n",
       "       2.66399338e-03, 1.34256179e-01, 1.19708794e+00, 1.04729674e-01,\n",
       "       9.44208245e-02, 1.90336497e-01, 8.60686236e-01, 5.97807270e+00,\n",
       "       5.40211765e-01, 2.81467809e+00, 9.17023995e-01, 4.19798564e-01,\n",
       "       2.16497291e+00, 2.75287874e-01, 1.21257042e+00, 2.36943250e-01,\n",
       "       2.68727494e-02, 9.58415557e-01, 9.27573634e-01, 1.46542682e+00,\n",
       "       2.22752461e+00, 2.60798790e+00, 4.14808374e-01, 1.37082697e+00,\n",
       "       2.36996649e-01, 4.76094832e-01, 1.20357245e+00, 3.37117349e-01,\n",
       "       3.88318122e+00, 3.44691078e-01, 8.69186045e-01, 2.14373422e+00,\n",
       "       7.04965653e-01, 2.80575886e-01, 9.68392968e-02, 8.50744405e-01,\n",
       "       2.67201513e-01, 4.89259443e-01, 1.58049331e+00, 1.36385688e-01,\n",
       "       3.58932446e-01, 1.58533000e-01, 1.16856725e-01, 5.27642465e-01,\n",
       "       2.22024787e+00, 2.34620456e-01, 4.21619205e-02, 1.64380810e-05,\n",
       "       1.01893647e-01, 3.19110255e-01, 7.54787069e-02, 5.58211133e-01,\n",
       "       1.43787038e-01, 1.68684577e-02, 7.30681279e-01, 1.04500281e-02,\n",
       "       6.57402013e-05, 7.48153366e-02, 1.80487181e-01, 1.46833449e+00,\n",
       "       4.21858787e-02, 4.49790452e-02, 4.84940714e+00, 2.75649021e+00,\n",
       "       2.88829475e-01, 1.10803139e+00, 4.30970088e-01, 1.26223657e-01,\n",
       "       6.47174016e-01, 9.08859431e-01, 2.02295716e+00, 9.93425563e-02,\n",
       "       1.08609890e+00, 7.96161717e-02, 3.69958074e+00, 1.38567591e+00,\n",
       "       1.66566453e+00, 7.74300020e-01, 2.78177646e-01, 2.35225907e+00,\n",
       "       1.16929803e-02, 5.68288721e-02, 9.43635059e+00, 6.63818492e-01,\n",
       "       1.53386202e+00, 1.99763187e+00, 8.77294985e-01, 5.26759766e+00,\n",
       "       2.23273910e-01, 3.67970301e+00, 6.82997788e-01, 6.18406444e-01,\n",
       "       8.90263859e-02, 1.67624013e-02, 1.20659757e+00, 2.10613907e-01,\n",
       "       4.44996401e-01, 8.72872455e-01, 1.05391337e-01, 2.96424975e+00,\n",
       "       2.64363192e+00, 1.75895908e+00, 4.64015317e-01, 2.73980691e+00,\n",
       "       9.93817787e-02, 7.73364650e+00, 7.54891703e-01, 2.84363120e+00,\n",
       "       3.71284053e-02, 5.08704517e-03, 3.08260010e+00, 5.22841850e-01,\n",
       "       5.46816712e-04, 3.61236489e-01, 1.06642180e+00, 1.09930565e-02,\n",
       "       5.74460798e-02, 1.92409258e+00, 3.46465919e-01, 7.54362270e-01,\n",
       "       5.02341739e-04, 6.24501003e-02, 3.43580404e-01, 1.68363916e+00,\n",
       "       1.77738370e+00, 5.36218471e-02, 9.11821430e-01, 3.51283343e-07,\n",
       "       2.39517994e+00, 3.60664601e-02, 4.44964846e-01, 9.66897070e-01,\n",
       "       1.38896468e+00, 1.77813439e-01, 3.99568278e-01, 1.82855529e+00,\n",
       "       3.66746695e-01, 9.84866266e-03, 7.99242413e-04, 2.22883911e-02,\n",
       "       4.96707575e+00, 2.69693350e-03, 9.42004752e-01, 1.29554703e+00,\n",
       "       4.83642304e-01, 1.47574229e+00, 8.77593551e-01, 6.17980362e+00,\n",
       "       2.84667475e-01, 2.52740497e+00, 2.34397701e-01, 1.74594502e-02,\n",
       "       1.07565305e+00, 7.65242270e-01, 4.70119262e-01, 3.20285535e-02,\n",
       "       3.41797392e-01, 7.97553477e-01, 3.68208963e-03, 7.45226706e-01,\n",
       "       1.38107082e+00, 3.74013942e-01, 3.79450785e-01, 2.01674912e-01,\n",
       "       2.71506289e+00, 5.10553499e-01, 3.81839578e-01, 1.45298622e-01,\n",
       "       6.46245842e+00, 7.74724405e-01, 3.75883694e-01, 4.80299706e-02,\n",
       "       6.95177552e-01, 1.74155235e-01, 4.24143725e-04, 2.74467683e+00,\n",
       "       1.59674306e-01, 8.02089027e-01, 2.00755548e-01, 2.38062180e+00,\n",
       "       7.25676624e-01, 1.69660048e-01, 5.50616955e-01, 3.97795074e+00,\n",
       "       4.02839764e-01, 1.71587820e-02, 5.72500686e-01, 4.72417694e-01,\n",
       "       1.62304593e+00, 1.55196672e+00, 7.35842090e-01, 1.04223581e+00,\n",
       "       2.62530161e-01, 1.40913245e-03, 1.75044729e+00, 8.68074865e-02,\n",
       "       1.85960428e+00, 7.71401649e-01, 1.11936562e+00, 1.42543527e+00,\n",
       "       6.49219360e+00, 1.09002365e-01, 2.26229676e+00, 1.13592608e+00,\n",
       "       2.43770406e-01, 6.33679689e-01, 8.71465653e-01, 1.61242591e-01,\n",
       "       1.55084364e-02, 1.66868182e-01, 7.46866801e-02, 1.48554724e+00,\n",
       "       5.03767867e-01, 1.97223102e+00, 9.84072064e-02, 4.99357889e-01,\n",
       "       2.72421180e-01, 2.45486062e+00, 1.64105442e-01, 8.45909485e-01,\n",
       "       1.69081583e+00, 1.04560144e+00, 2.19986704e-01, 3.30738310e-01,\n",
       "       4.77427617e-01, 4.86327449e-02, 8.29900517e-01, 2.81558107e+00,\n",
       "       5.30257367e-01, 1.31689380e-02, 7.86332356e-01, 4.44857284e-01,\n",
       "       1.72014802e+00, 2.26501326e+00, 1.56013131e+00, 1.19744983e+00,\n",
       "       8.25809567e-01, 1.32129448e+00, 1.01466599e-03, 7.66423584e-01,\n",
       "       1.08500839e+00, 1.97082900e+00, 2.75612786e-01, 1.39385353e-01,\n",
       "       2.01833986e-01, 3.66917751e+00, 4.04028238e-01, 1.52024348e+00,\n",
       "       4.53541471e-01, 9.87991882e-02, 2.94959872e+00, 1.65129724e+00,\n",
       "       1.22115563e-01, 3.16854542e-01, 2.02086039e-02, 1.64451030e-01,\n",
       "       9.16849595e+00, 1.34153662e-02, 4.46617963e-01, 2.15486197e-01,\n",
       "       6.83721051e-03, 1.84453343e-02, 1.06011438e-02, 2.16571866e-01,\n",
       "       5.22598417e-01, 3.18028496e+00, 3.96139095e-01, 1.94866473e-01,\n",
       "       3.35130311e-02, 4.32595011e+00, 3.02437752e+00, 4.82619736e-01,\n",
       "       2.40769666e-05, 2.88240559e-01, 2.52649278e-01, 2.63197206e-02,\n",
       "       2.65512244e+00, 1.71457852e+00, 2.30570325e-02, 2.47249194e-01,\n",
       "       4.56195776e-02, 4.88375000e+00, 5.76091611e-01, 2.40345587e-02,\n",
       "       1.13893126e+00, 1.74691698e-02, 3.33051514e+00, 9.86019542e-01,\n",
       "       1.29307740e-01, 4.86398380e-01, 7.13694407e-01, 3.68492366e+00,\n",
       "       4.93896802e-02, 4.40535658e-01, 2.38136064e-03, 1.34481203e+00,\n",
       "       1.92537264e+00, 1.17913789e-01, 2.77136001e-01, 2.96114257e+00,\n",
       "       1.79806046e+00, 5.13968563e-01, 2.33914807e-01, 8.61839211e-01,\n",
       "       1.05430436e-01, 3.47746503e+00, 2.39947947e+00, 1.35859035e+00,\n",
       "       2.05975876e-01, 1.33799404e+00, 4.21018827e-01, 6.02606849e-01,\n",
       "       1.63083245e-02, 9.61323229e-01, 2.39426305e+00, 1.40524017e-02,\n",
       "       2.37525273e-01, 4.31805009e-02, 8.15314793e+00, 1.33433177e-01,\n",
       "       6.53840255e-01, 8.11211881e-03, 1.29591505e-02, 3.01794825e-01,\n",
       "       7.29278976e-01, 7.01785846e-01, 4.24750496e-01, 3.03760483e+00,\n",
       "       3.42663706e-01, 5.94460518e+00, 1.26971822e+00, 4.15809177e+00,\n",
       "       3.07074189e-02, 2.91622525e+00, 3.77545664e-01, 1.42331402e-01,\n",
       "       4.61434272e-01, 5.35260848e+00, 3.83003319e+00, 2.95396079e-03])"
      ]
     },
     "execution_count": 36,
     "metadata": {},
     "output_type": "execute_result"
    }
   ],
   "source": [
    "a=random.chisquare(df=1,size=1000)\n",
    "a"
   ]
  },
  {
   "cell_type": "markdown",
   "id": "5cdd6545",
   "metadata": {},
   "source": [
    "# Rayleigh distribution\n",
    "\n",
    "* It is used for signal processing\n",
    "* It has 2 arguments 1.Scale(SD) #default=1 2.Size"
   ]
  },
  {
   "cell_type": "code",
   "execution_count": 41,
   "id": "d9e7d053",
   "metadata": {},
   "outputs": [
    {
     "name": "stderr",
     "output_type": "stream",
     "text": [
      "C:\\Users\\ACER\\AppData\\Local\\Temp\\ipykernel_16844\\47640260.py:2: UserWarning: \n",
      "\n",
      "`distplot` is a deprecated function and will be removed in seaborn v0.14.0.\n",
      "\n",
      "Please adapt your code to use either `displot` (a figure-level function with\n",
      "similar flexibility) or `kdeplot` (an axes-level function for kernel density plots).\n",
      "\n",
      "For a guide to updating your code to use the new functions, please see\n",
      "https://gist.github.com/mwaskom/de44147ed2974457ad6372750bbe5751\n",
      "\n",
      "  sb.distplot(a,hist=False)\n"
     ]
    },
    {
     "data": {
      "image/png": "[encoded data removed]",
      "text/plain": [
       "<Figure size 640x480 with 1 Axes>"
      ]
     },
     "metadata": {},
     "output_type": "display_data"
    }
   ],
   "source": [
    "a=random.rayleigh(size=1000)\n",
    "sb.distplot(a,hist=False)\n",
    "plt.show()"
   ]
  },
  {
   "cell_type": "markdown",
   "id": "795e11d8",
   "metadata": {},
   "source": [
    "# Pareto distribution\n",
    "\n",
    "* It is known as 80-20 distribution\n",
    "* 20% factors cause 80% outcomes\n",
    "* It has 2 arguments 1.Shape of the argument 2.Size"
   ]
  },
  {
   "cell_type": "code",
   "execution_count": 48,
   "id": "5cb65b4e",
   "metadata": {},
   "outputs": [
    {
     "name": "stderr",
     "output_type": "stream",
     "text": [
      "C:\\Users\\ACER\\AppData\\Local\\Temp\\ipykernel_16844\\3999569615.py:2: UserWarning: \n",
      "\n",
      "`distplot` is a deprecated function and will be removed in seaborn v0.14.0.\n",
      "\n",
      "Please adapt your code to use either `displot` (a figure-level function with\n",
      "similar flexibility) or `histplot` (an axes-level function for histograms).\n",
      "\n",
      "For a guide to updating your code to use the new functions, please see\n",
      "https://gist.github.com/mwaskom/de44147ed2974457ad6372750bbe5751\n",
      "\n",
      "  sb.distplot(a,kde=False)\n"
     ]
    },
    {
     "data": {
      "image/png": "[encoded data removed]",
      "text/plain": [
       "<Figure size 640x480 with 1 Axes>"
      ]
     },
     "metadata": {},
     "output_type": "display_data"
    }
   ],
   "source": [
    "a=random.pareto(a=2,size=1000)\n",
    "sb.distplot(a,kde=False)\n",
    "plt.show()"
   ]
  },
  {
   "cell_type": "markdown",
   "id": "64ba2085",
   "metadata": {},
   "source": [
    "# zipf distribution zips law\n",
    "\n",
    "* In a collection nth common term is 1/n times of the most common term\n",
    "* Ex: Fifth most common word in English occurs\n",
    "    nearly 1/5 times often as most common word\n",
    "* It has 2 arguments 1.a(distribution parameter) 2.size"
   ]
  },
  {
   "cell_type": "code",
   "execution_count": null,
   "id": "ece8ec03",
   "metadata": {},
   "outputs": [],
   "source": []
  }
 ],
 "metadata": {
  "kernelspec": {
   "display_name": "Python 3 (ipykernel)",
   "language": "python",
   "name": "python3"
  },
  "language_info": {
   "codemirror_mode": {
    "name": "ipython",
    "version": 3
   },
   "file_extension": ".py",
   "mimetype": "text/x-python",
   "name": "python",
   "nbconvert_exporter": "python",
   "pygments_lexer": "ipython3",
   "version": "3.11.5"
  }
 },
 "nbformat": 4,
 "nbformat_minor": 5
}
